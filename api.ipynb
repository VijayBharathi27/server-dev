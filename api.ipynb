{
 "cells": [
  {
   "cell_type": "code",
   "execution_count": 1,
   "id": "777a5bb0",
   "metadata": {},
   "outputs": [
    {
     "name": "stdout",
     "output_type": "stream",
     "text": [
      " * Serving Flask app \"__main__\" (lazy loading)\n",
      " * Environment: production\n",
      "\u001b[31m   WARNING: This is a development server. Do not use it in a production deployment.\u001b[0m\n",
      "\u001b[2m   Use a production WSGI server instead.\u001b[0m\n",
      " * Debug mode: on\n"
     ]
    },
    {
     "name": "stderr",
     "output_type": "stream",
     "text": [
      " * Running on http://localhost:5000/ (Press CTRL+C to quit)\n",
      " * Restarting with inotify reloader\n"
     ]
    },
    {
     "ename": "SystemExit",
     "evalue": "1",
     "output_type": "error",
     "traceback": [
      "An exception has occurred, use %tb to see the full traceback.\n",
      "\u001b[0;31mSystemExit\u001b[0m\u001b[0;31m:\u001b[0m 1\n"
     ]
    },
    {
     "name": "stderr",
     "output_type": "stream",
     "text": [
      "/home/vijay/anaconda3/lib/python3.8/site-packages/IPython/core/interactiveshell.py:3445: UserWarning: To exit: use 'exit', 'quit', or Ctrl-D.\n",
      "  warn(\"To exit: use 'exit', 'quit', or Ctrl-D.\", stacklevel=1)\n"
     ]
    }
   ],
   "source": [
    "# importing the filtered json can be done using dump and load method\n",
    "from flask import Flask, render_template, url_for, request, session, redirect, jsonify\n",
    "# , reqparse, abort, fields, marshal_with\n",
    "from flask_restful import Api, Resource\n",
    "import scrap\n",
    "from scrap import scraping\n",
    "\n",
    "app = Flask(__name__)\n",
    "api = Api(app)\n",
    "app.config[\"DEBUG\"] = True\n",
    "\n",
    "\n",
    "@app.route('/jobsearch', methods=['POST'])\n",
    "def jobsearch():\n",
    "\n",
    "    data = scraping()\n",
    "    return jsonify(data)\n",
    "\n",
    "\n",
    "@app.route('/jobs', methods=['GET'])\n",
    "def jobs():\n",
    "    return 'html render'  # render_template('index.html')\n",
    "\n",
    "\n",
    "if __name__ == '__main__':\n",
    "    # should be removed during production\n",
    "    app.run(host=\"localhost\", debug=True)"
   ]
  },
  {
   "cell_type": "code",
   "execution_count": null,
   "id": "9528a97d",
   "metadata": {},
   "outputs": [],
   "source": []
  }
 ],
 "metadata": {
  "kernelspec": {
   "display_name": "Python 3 (ipykernel)",
   "language": "python",
   "name": "python3"
  },
  "language_info": {
   "codemirror_mode": {
    "name": "ipython",
    "version": 3
   },
   "file_extension": ".py",
   "mimetype": "text/x-python",
   "name": "python",
   "nbconvert_exporter": "python",
   "pygments_lexer": "ipython3",
   "version": "3.8.8"
  }
 },
 "nbformat": 4,
 "nbformat_minor": 5
}
