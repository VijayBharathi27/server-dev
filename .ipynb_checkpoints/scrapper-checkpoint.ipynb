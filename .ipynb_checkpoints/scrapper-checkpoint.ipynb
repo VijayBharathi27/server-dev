{
 "cells": [
  {
   "cell_type": "code",
   "execution_count": 36,
   "id": "753a317c",
   "metadata": {},
   "outputs": [],
   "source": [
    "from selenium.webdriver.common.by import By\n",
    "from selenium import webdriver\n",
    "from selenium.webdriver.common.keys import Keys\n",
    "from selenium.webdriver.support.ui import WebDriverWait\n",
    "from selenium.webdriver.support import expected_conditions as EC\n",
    "import pandas as pd\n",
    "\n",
    "DRIVER_PATH = '/home/vijay/chromedriver/chromedriver'\n",
    "driver = webdriver.Chrome(executable_path = DRIVER_PATH)\n",
    "driver.maximize_window()\n",
    "driver.delete_all_cookies()\n",
    "driver.get('https://indeed.com')"
   ]
  },
  {
   "cell_type": "code",
   "execution_count": 37,
   "id": "43c5741e",
   "metadata": {},
   "outputs": [],
   "source": [
    "search_job = driver.find_element_by_xpath('//*[@id=\"text-input-what\"]')\n",
    "search_job.send_keys(['data science'])\n",
    "search_location = driver.find_element_by_xpath('//*[@id=\"text-input-where\"]')\n",
    "search_location.send_keys(['delhi'])"
   ]
  },
  {
   "cell_type": "code",
   "execution_count": 39,
   "id": "f685850a",
   "metadata": {
    "scrolled": true
   },
   "outputs": [],
   "source": [
    "initial_search_button = driver.find_element_by_xpath('/html/body/div/div[2]/span/div[3]/div[1]/div/div/form/button')\n",
    "initial_search_button.click()\n",
    "driver.implicitly_wait(3)"
   ]
  },
  {
   "cell_type": "code",
   "execution_count": 40,
   "id": "0140eac0",
   "metadata": {
    "scrolled": true
   },
   "outputs": [],
   "source": [
    "advanced_search = driver.find_element_by_xpath(\"//a[contains(text(),'Advanced Job Search')]\")\n",
    "advanced_search.click()"
   ]
  },
  {
   "cell_type": "code",
   "execution_count": 41,
   "id": "8d38def5",
   "metadata": {},
   "outputs": [],
   "source": [
    "#search data science \n",
    "# search_job = driver.find_element_by_xpath('//input[@id=\"as_and\"]')\n",
    "# search_job.send_keys(['data science'])\n",
    "#set display limit of 30 results per page\n",
    "display_limit = driver.find_element_by_xpath('//select[@id=\"limit\"]//option[@value=\"30\"]')\n",
    "display_limit.click()\n",
    "#sort by date\n",
    "sort_option = driver.find_element_by_xpath('//select[@id=\"sort\"]//option[@value=\"date\"]')\n",
    "sort_option.click()\n",
    "search_button = driver.find_element_by_xpath('//*[@id=\"fj\"]')\n",
    "search_button.click()"
   ]
  },
  {
   "cell_type": "code",
   "execution_count": 42,
   "id": "142e214a",
   "metadata": {},
   "outputs": [],
   "source": [
    "close_popup = driver.find_element_by_xpath('//*[@id=\"popover-x\"]/button')\n",
    "close_popup.click()"
   ]
  },
  {
   "cell_type": "code",
   "execution_count": 46,
   "id": "291a5801",
   "metadata": {
    "scrolled": true
   },
   "outputs": [
    {
     "name": "stdout",
     "output_type": "stream",
     "text": [
      "[{'title': 'new\\nSenior Software Engineer - Data Analytics', 'company': 'PubMatic', 'salary': 'Not disclosed', 'location': 'New Delhi, Delhi•Temporarily Remote', 'review': '3.9'}, {'title': 'new\\nSoftware Engineering Lead - Linux, Open Source, or SAAS', 'company': 'Canonical - Jobs', 'salary': 'Not disclosed', 'location': 'Delhi, Delhi', 'review': 'None'}, {'title': 'new\\nData Scientist: Advanced Analytics', 'company': 'IBM', 'salary': 'Not disclosed', 'location': 'New Delhi, Delhi', 'review': '3.9'}, {'title': 'new\\nAssurance Associate - Forensics - National - Investigations...', 'company': 'EY', 'salary': 'Not disclosed', 'location': 'Gurgaon Road, Delhi', 'review': '4.0'}, {'title': 'new\\nConsultant - Business Consulting Risk - AMI - Internal Audit...', 'company': 'EY', 'salary': 'Not disclosed', 'location': 'Gurgaon Road, Delhi', 'review': '4.0'}, {'title': 'new\\nManager - Business Consulting Risk - TMT - Risk Assurance -...', 'company': 'EY', 'salary': 'Not disclosed', 'location': 'Gurgaon Road, Delhi', 'review': '4.0'}, {'title': 'new\\nManager - Business Consulting Risk - National - Risk Transfo...', 'company': 'EY', 'salary': 'Not disclosed', 'location': 'Gurgaon Road, Delhi', 'review': '4.0'}, {'title': 'new\\nAnalyst / Senior Solution Analyst - GAMMA, FI', 'company': 'Boston Consulting Group', 'salary': 'Not disclosed', 'location': 'Delhi, Delhi', 'review': '4.2'}, {'title': 'new\\nData Science Trainer', 'company': 'Badatya Private Limited', 'salary': 'Not disclosed', 'location': 'New Delhi, Delhi', 'review': 'None'}, {'title': 'new\\nConsultant - Tech Consulting - National - Data & Analytics -...', 'company': 'EY', 'salary': 'Not disclosed', 'location': 'Gurgaon Road, Delhi', 'review': '4.0'}, {'title': 'new\\nAssociate Consultant - Tech Consulting - National - Data & A...', 'company': 'EY', 'salary': 'Not disclosed', 'location': 'Gurgaon Road, Delhi', 'review': '4.0'}, {'title': 'new\\nPhD Research Mentor (Marketing/Management)', 'company': 'Redbridge Training & Consulting Ltd', 'salary': 'Not disclosed', 'location': 'New Delhi, Delhi•Remote', 'review': 'None'}, {'title': 'new\\nProject Team Leader', 'company': 'INDIAN SOCIAL RESPONSIBILITY NETWORK', 'salary': 'Not disclosed', 'location': 'Delhi, Delhi', 'review': 'None'}, {'title': 'new\\nAssociate Consultant - Forensics - National - Investigations...', 'company': 'EY', 'salary': 'Not disclosed', 'location': 'Gurgaon Road, Delhi', 'review': '4.0'}, {'title': 'new\\nMarketing Interns', 'company': 'Bee5 Manpower Consulting', 'salary': 'Not disclosed', 'location': 'Delhi, Delhi', 'review': 'None'}, {'title': 'new\\nConsultant - Business Consulting Risk - TMT - Risk Assurance...', 'company': 'EY', 'salary': 'Not disclosed', 'location': 'Gurgaon Road, Delhi', 'review': '4.0'}, {'title': 'new\\nManager - Business Consulting Risk - TMT - Technology Risk -...', 'company': 'EY', 'salary': 'Not disclosed', 'location': 'Gurgaon Road, Delhi', 'review': '4.0'}, {'title': 'new\\nData Science Intern', 'company': 'legit quest', 'salary': 'Not disclosed', 'location': 'Delhi, Delhi', 'review': 'None'}, {'title': 'new\\nSenior Data Scientist - Experimentation', 'company': 'Farfetch', 'salary': 'Not disclosed', 'location': 'Delhi, Delhi', 'review': 'None'}, {'title': 'new\\nLead Data Analyst', 'company': 'Farfetch', 'salary': 'Not disclosed', 'location': 'Delhi, Delhi', 'review': 'None'}, {'title': 'new\\nTalent Associate', 'company': 'The Massive Earth Foundation (MEF)', 'salary': 'Not disclosed', 'location': 'Delhi, Delhi•Temporarily Remote', 'review': 'None'}, {'title': 'new\\nBusiness Intelligence Developer (m/f/d) Qlik Sense', 'company': 'Sportstech Brands Holding GmbH', 'salary': 'Not disclosed', 'location': 'New Delhi, Delhi•Remote', 'review': 'None'}, {'title': 'new\\nSenior Data Scientist - Search & Discovery', 'company': 'Farfetch', 'salary': 'Not disclosed', 'location': 'Delhi, Delhi', 'review': 'None'}, {'title': 'new\\nAssociate Manager, Sourcing Ops & Analytics', 'company': 'Gap Inc.', 'salary': 'Not disclosed', 'location': 'New Delhi, Delhi', 'review': '3.7'}, {'title': 'new\\nSenior Data Engineer', 'company': 'Farfetch', 'salary': 'Not disclosed', 'location': 'Delhi, Delhi', 'review': 'None'}, {'title': 'new\\nAdvisor, Business Process Management (I7)', 'company': 'Dell Technologies', 'salary': 'Not disclosed', 'location': 'New Delhi, Delhi', 'review': '4.0'}, {'title': 'new\\nApplication Database Administrator: DBMS', 'company': 'IBM', 'salary': 'Not disclosed', 'location': 'New Delhi, Delhi', 'review': '3.9'}, {'title': 'new\\nSenior Infrastructure Engineer - Data Platform', 'company': 'Farfetch', 'salary': 'Not disclosed', 'location': 'Delhi, Delhi', 'review': 'None'}, {'title': 'new\\nJunior Architect', 'company': 'RGF Professional Recruitment', 'salary': 'Not disclosed', 'location': 'Delhi', 'review': 'None'}, {'title': 'new\\nDirector, Digital Health', 'company': 'PATH', 'salary': 'Not disclosed', 'location': 'New Delhi, Delhi', 'review': '3.9'}]\n"
     ]
    }
   ],
   "source": [
    "# driver.implicitly_wait(3) \n",
    "\n",
    "data_list = []\n",
    "\n",
    "# for i in range(0,2):\n",
    "job_card = driver.find_elements_by_xpath('//div[contains(@class,\"job_seen_beacon\")]')\n",
    "for job in job_card:\n",
    "    try:\n",
    "        review = job.find_element_by_xpath('.//span[@class=\"ratingNumber\"]').text\n",
    "    except:\n",
    "        review = \"None\"\n",
    "    try:\n",
    "        salary = job.find_element_by_xpath('.//span[@class=\"salary-snippet\"]').text\n",
    "    except:\n",
    "        salary = \"Not disclosed\"      \n",
    "        \n",
    "    try:\n",
    "        location = job.find_element_by_xpath('.//div[contains(@class,\"companyLocation\")]').text\n",
    "    except:\n",
    "        location = job.find_element_by_xpath('.//div[@class,\"companyLocation\"]').text\n",
    "        \n",
    "    try:\n",
    "        title  = job.find_element_by_class_name('jobTitle').text\n",
    "    except:\n",
    "        title = job.find_element_by_xpath('.//h2[@class=\"jobTitle\"]').get_attribute(name=\"span\")\n",
    "\n",
    "    company=job.find_element_by_xpath('.//span[@class=\"companyName\"]').text\n",
    "\n",
    "    data = { 'title': title, 'company':company,'salary':salary, 'location':location, 'review':review}\n",
    "    data_list.append(data);\n",
    "# next_page = driver.find_element_by_xpath('//a[@aria-label=\"{}\"]//span[@class=\"pn\"]'.format(i+2))\n",
    "# try:\n",
    "#   next_page = driver.find_element_by_xpath('/html/body/table[2]/tbody/tr/td/table/tbody/tr/td[1]/nav/div/ul/li[7]/a/span')\n",
    "#   next_page.click();\n",
    "# except:\n",
    "#   break\n",
    "result_data_indeed = data_list\n",
    "print(data_list)    "
   ]
  },
  {
   "cell_type": "code",
   "execution_count": 17,
   "id": "423c71cd",
   "metadata": {
    "scrolled": true
   },
   "outputs": [
    {
     "name": "stdout",
     "output_type": "stream",
     "text": [
      "/home/vijay/.local/lib/python3.8/site-packages/secretstorage/dhcrypto.py:16: CryptographyDeprecationWarning: int_from_bytes is deprecated, use int.from_bytes instead\n",
      "  from cryptography.utils import int_from_bytes\n",
      "/home/vijay/.local/lib/python3.8/site-packages/secretstorage/util.py:25: CryptographyDeprecationWarning: int_from_bytes is deprecated, use int.from_bytes instead\n",
      "  from cryptography.utils import int_from_bytes\n",
      "Error initializing plugin EntryPoint(name='macOS', value='keyring.backends.macOS', group='keyring.backends').\n",
      "Traceback (most recent call last):\n",
      "  File \"/home/vijay/.local/lib/python3.8/site-packages/keyring/backend.py\", line 198, in _load_plugins\n",
      "    init_func = ep.load()\n",
      "  File \"/home/vijay/anaconda3/lib/python3.8/importlib/metadata.py\", line 77, in load\n",
      "    module = import_module(match.group('module'))\n",
      "  File \"/home/vijay/anaconda3/lib/python3.8/importlib/__init__.py\", line 127, in import_module\n",
      "    return _bootstrap._gcd_import(name[level:], package, level)\n",
      "  File \"<frozen importlib._bootstrap>\", line 1014, in _gcd_import\n",
      "  File \"<frozen importlib._bootstrap>\", line 991, in _find_and_load\n",
      "  File \"<frozen importlib._bootstrap>\", line 973, in _find_and_load_unlocked\n",
      "ModuleNotFoundError: No module named 'keyring.backends.macOS'\n",
      "Collecting spacy[cuda92]\n",
      "  Downloading spacy-3.1.4-cp38-cp38-manylinux_2_17_x86_64.manylinux2014_x86_64.whl (6.1 MB)\n",
      "\u001b[K     |████████████████████████████████| 6.1 MB 1.1 MB/s eta 0:00:01\n",
      "\u001b[?25hCollecting blis<0.8.0,>=0.4.0\n",
      "  Downloading blis-0.7.5-cp38-cp38-manylinux_2_17_x86_64.manylinux2014_x86_64.whl (9.9 MB)\n",
      "\u001b[K     |████████████████████████████████| 9.9 MB 5.0 MB/s eta 0:00:011\n",
      "\u001b[?25hCollecting cymem<2.1.0,>=2.0.2\n",
      "  Downloading cymem-2.0.6-cp38-cp38-manylinux_2_17_x86_64.manylinux2014_x86_64.whl (36 kB)\n",
      "Collecting srsly<3.0.0,>=2.4.1\n",
      "  Downloading srsly-2.4.2-cp38-cp38-manylinux_2_17_x86_64.manylinux2014_x86_64.whl (454 kB)\n",
      "\u001b[K     |████████████████████████████████| 454 kB 9.8 MB/s eta 0:00:01\n",
      "\u001b[?25hRequirement already satisfied: tqdm<5.0.0,>=4.38.0 in /home/vijay/.local/lib/python3.8/site-packages (from spacy[cuda92]) (4.50.0)\n",
      "Requirement already satisfied: numpy>=1.15.0 in /home/vijay/anaconda3/lib/python3.8/site-packages (from spacy[cuda92]) (1.20.1)\n",
      "Requirement already satisfied: requests<3.0.0,>=2.13.0 in /home/vijay/.local/lib/python3.8/site-packages (from spacy[cuda92]) (2.24.0)\n",
      "Requirement already satisfied: jinja2 in /home/vijay/.local/lib/python3.8/site-packages (from spacy[cuda92]) (2.11.2)\n",
      "Collecting typer<0.5.0,>=0.3.0\n",
      "  Downloading typer-0.4.0-py3-none-any.whl (27 kB)\n",
      "Requirement already satisfied: packaging>=20.0 in /home/vijay/.local/lib/python3.8/site-packages (from spacy[cuda92]) (20.4)\n",
      "Collecting spacy-legacy<3.1.0,>=3.0.8\n",
      "  Downloading spacy_legacy-3.0.8-py2.py3-none-any.whl (14 kB)\n",
      "Collecting wasabi<1.1.0,>=0.8.1\n",
      "  Downloading wasabi-0.8.2-py3-none-any.whl (23 kB)\n",
      "Collecting murmurhash<1.1.0,>=0.28.0\n",
      "  Downloading murmurhash-1.0.6-cp38-cp38-manylinux_2_5_x86_64.manylinux1_x86_64.manylinux_2_17_x86_64.manylinux2014_x86_64.whl (21 kB)\n",
      "Collecting thinc<8.1.0,>=8.0.12\n",
      "  Downloading thinc-8.0.12-cp38-cp38-manylinux_2_17_x86_64.manylinux2014_x86_64.whl (636 kB)\n",
      "\u001b[K     |████████████████████████████████| 636 kB 10.4 MB/s eta 0:00:01\n",
      "\u001b[?25hCollecting pydantic!=1.8,!=1.8.1,<1.9.0,>=1.7.4\n",
      "  Downloading pydantic-1.8.2-cp38-cp38-manylinux2014_x86_64.whl (13.7 MB)\n",
      "\u001b[K     |████████████████████████████████| 13.7 MB 12.5 MB/s eta 0:00:01\n",
      "\u001b[?25hRequirement already satisfied: setuptools in /home/vijay/anaconda3/lib/python3.8/site-packages (from spacy[cuda92]) (52.0.0.post20210125)\n",
      "Collecting catalogue<2.1.0,>=2.0.6\n",
      "  Downloading catalogue-2.0.6-py3-none-any.whl (17 kB)\n",
      "Collecting pathy>=0.3.5\n",
      "  Downloading pathy-0.6.1-py3-none-any.whl (42 kB)\n",
      "\u001b[K     |████████████████████████████████| 42 kB 289 kB/s  eta 0:00:01\n",
      "\u001b[?25hCollecting preshed<3.1.0,>=3.0.2\n",
      "  Downloading preshed-3.0.6-cp38-cp38-manylinux_2_5_x86_64.manylinux1_x86_64.manylinux_2_17_x86_64.manylinux2014_x86_64.whl (130 kB)\n",
      "\u001b[K     |████████████████████████████████| 130 kB 18.2 MB/s eta 0:00:01\n",
      "\u001b[?25hCollecting cupy-cuda92<10.0.0,>=5.0.0b4\n",
      "  Downloading cupy_cuda92-9.5.0-cp38-cp38-manylinux1_x86_64.whl (57.4 MB)\n",
      "\u001b[K     |████████████████████████████████| 57.4 MB 76 kB/s  eta 0:00:013    |█▊                              | 3.1 MB 19.2 MB/s eta 0:00:03     |████▉                           | 8.6 MB 19.2 MB/s eta 0:00:03     |███████████████████████████████▍| 56.2 MB 5.0 MB/s eta 0:00:01\n",
      "\u001b[?25hCollecting fastrlock>=0.5\n",
      "  Downloading fastrlock-0.8-cp38-cp38-manylinux_2_5_x86_64.manylinux1_x86_64.manylinux_2_12_x86_64.manylinux2010_x86_64.whl (49 kB)\n",
      "\u001b[K     |████████████████████████████████| 49 kB 1.2 MB/s  eta 0:00:01\n",
      "\u001b[?25hRequirement already satisfied: six in /home/vijay/.local/lib/python3.8/site-packages (from packaging>=20.0->spacy[cuda92]) (1.15.0)\n",
      "Requirement already satisfied: pyparsing>=2.0.2 in /home/vijay/.local/lib/python3.8/site-packages (from packaging>=20.0->spacy[cuda92]) (2.4.7)\n",
      "Collecting smart-open<6.0.0,>=5.0.0\n",
      "  Downloading smart_open-5.2.1-py3-none-any.whl (58 kB)\n",
      "\u001b[K     |████████████████████████████████| 58 kB 1.0 MB/s eta 0:00:011\n",
      "\u001b[?25hRequirement already satisfied: typing-extensions>=3.7.4.3 in /home/vijay/anaconda3/lib/python3.8/site-packages (from pydantic!=1.8,!=1.8.1,<1.9.0,>=1.7.4->spacy[cuda92]) (3.7.4.3)\n",
      "Requirement already satisfied: chardet<4,>=3.0.2 in /home/vijay/anaconda3/lib/python3.8/site-packages (from requests<3.0.0,>=2.13.0->spacy[cuda92]) (3.0.4)\n",
      "Requirement already satisfied: certifi>=2017.4.17 in /home/vijay/.local/lib/python3.8/site-packages (from requests<3.0.0,>=2.13.0->spacy[cuda92]) (2020.6.20)\n",
      "Requirement already satisfied: urllib3!=1.25.0,!=1.25.1,<1.26,>=1.21.1 in /home/vijay/.local/lib/python3.8/site-packages (from requests<3.0.0,>=2.13.0->spacy[cuda92]) (1.25.10)\n",
      "Requirement already satisfied: idna<3,>=2.5 in /home/vijay/.local/lib/python3.8/site-packages (from requests<3.0.0,>=2.13.0->spacy[cuda92]) (2.10)\n",
      "Requirement already satisfied: click<9.0.0,>=7.1.1 in /home/vijay/anaconda3/lib/python3.8/site-packages (from typer<0.5.0,>=0.3.0->spacy[cuda92]) (7.1.2)\n",
      "Requirement already satisfied: MarkupSafe>=0.23 in /home/vijay/.local/lib/python3.8/site-packages (from jinja2->spacy[cuda92]) (1.1.1)\n",
      "Installing collected packages: murmurhash, cymem, catalogue, wasabi, typer, srsly, smart-open, pydantic, preshed, blis, thinc, spacy-legacy, pathy, fastrlock, spacy, cupy-cuda92\n",
      "Successfully installed blis-0.7.5 catalogue-2.0.6 cupy-cuda92-9.5.0 cymem-2.0.6 fastrlock-0.8 murmurhash-1.0.6 pathy-0.6.1 preshed-3.0.6 pydantic-1.8.2 smart-open-5.2.1 spacy-3.1.4 spacy-legacy-3.0.8 srsly-2.4.2 thinc-8.0.12 typer-0.4.0 wasabi-0.8.2\n"
     ]
    }
   ],
   "source": [
    "!pip install -U spacy[cuda92]"
   ]
  },
  {
   "cell_type": "code",
   "execution_count": 18,
   "id": "dd01193b",
   "metadata": {
    "scrolled": true
   },
   "outputs": [
    {
     "name": "stdout",
     "output_type": "stream",
     "text": [
      "/home/vijay/.local/lib/python3.8/site-packages/secretstorage/dhcrypto.py:16: CryptographyDeprecationWarning: int_from_bytes is deprecated, use int.from_bytes instead\n",
      "  from cryptography.utils import int_from_bytes\n",
      "/home/vijay/.local/lib/python3.8/site-packages/secretstorage/util.py:25: CryptographyDeprecationWarning: int_from_bytes is deprecated, use int.from_bytes instead\n",
      "  from cryptography.utils import int_from_bytes\n",
      "Error initializing plugin EntryPoint(name='macOS', value='keyring.backends.macOS', group='keyring.backends').\n",
      "Traceback (most recent call last):\n",
      "  File \"/home/vijay/.local/lib/python3.8/site-packages/keyring/backend.py\", line 198, in _load_plugins\n",
      "    init_func = ep.load()\n",
      "  File \"/home/vijay/anaconda3/lib/python3.8/importlib/metadata.py\", line 77, in load\n",
      "    module = import_module(match.group('module'))\n",
      "  File \"/home/vijay/anaconda3/lib/python3.8/importlib/__init__.py\", line 127, in import_module\n",
      "    return _bootstrap._gcd_import(name[level:], package, level)\n",
      "  File \"<frozen importlib._bootstrap>\", line 1014, in _gcd_import\n",
      "  File \"<frozen importlib._bootstrap>\", line 991, in _find_and_load\n",
      "  File \"<frozen importlib._bootstrap>\", line 973, in _find_and_load_unlocked\n",
      "ModuleNotFoundError: No module named 'keyring.backends.macOS'\n",
      "Collecting en-core-web-lg==3.1.0\n",
      "  Downloading https://github.com/explosion/spacy-models/releases/download/en_core_web_lg-3.1.0/en_core_web_lg-3.1.0-py3-none-any.whl (777.1 MB)\n",
      "\u001b[K     |████████████████████████████████| 777.1 MB 4.5 kB/s eta 0:00:012   |▉                               | 19.2 MB 566 kB/s eta 0:22:18     |████▏                           | 102.5 MB 13.0 MB/s eta 0:00:52     |███████                         | 171.6 MB 2.0 MB/s eta 0:05:01     |███████▎                        | 177.1 MB 1.7 MB/s eta 0:05:52     |███████▌                        | 180.8 MB 1.7 MB/s eta 0:05:50     |████████▍                       | 204.8 MB 13.8 MB/s eta 0:00:42     |███████████▉                    | 286.0 MB 5.4 MB/s eta 0:01:32     |█████████████▎                  | 321.1 MB 2.8 MB/s eta 0:02:45     |█████████████▌                  | 326.6 MB 3.7 MB/s eta 0:02:03     |███████████████▎                | 371.6 MB 19.5 MB/s eta 0:00:21     |████████████████▎               | 394.0 MB 29.5 MB/s eta 0:00:13     |█████████████████▎              | 418.5 MB 6.1 MB/s eta 0:00:59     |██████████████████▎             | 443.7 MB 6.2 MB/s eta 0:00:54     |██████████████████▍             | 447.5 MB 14.3 MB/s eta 0:00:24     |███████████████████▊            | 480.2 MB 10.7 MB/s eta 0:00:28     |████████████████████▉           | 505.7 MB 14.7 MB/s eta 0:00:19     |█████████████████████▊          | 528.5 MB 6.9 MB/s eta 0:00:37     |███████████████████████▏        | 563.8 MB 2.7 MB/s eta 0:01:20     |████████████████████████▍       | 593.1 MB 9.5 MB/s eta 0:00:20     |█████████████████████████       | 609.5 MB 5.9 MB/s eta 0:00:29     |██████████████████████████████▊ | 745.2 MB 12.2 MB/s eta 0:00:03\n",
      "\u001b[?25hRequirement already satisfied: spacy<3.2.0,>=3.1.0 in /home/vijay/anaconda3/lib/python3.8/site-packages (from en-core-web-lg==3.1.0) (3.1.4)\n",
      "Requirement already satisfied: tqdm<5.0.0,>=4.38.0 in /home/vijay/.local/lib/python3.8/site-packages (from spacy<3.2.0,>=3.1.0->en-core-web-lg==3.1.0) (4.50.0)\n",
      "Requirement already satisfied: setuptools in /home/vijay/anaconda3/lib/python3.8/site-packages (from spacy<3.2.0,>=3.1.0->en-core-web-lg==3.1.0) (52.0.0.post20210125)\n",
      "Requirement already satisfied: spacy-legacy<3.1.0,>=3.0.8 in /home/vijay/anaconda3/lib/python3.8/site-packages (from spacy<3.2.0,>=3.1.0->en-core-web-lg==3.1.0) (3.0.8)\n",
      "Requirement already satisfied: typer<0.5.0,>=0.3.0 in /home/vijay/anaconda3/lib/python3.8/site-packages (from spacy<3.2.0,>=3.1.0->en-core-web-lg==3.1.0) (0.4.0)\n",
      "Requirement already satisfied: blis<0.8.0,>=0.4.0 in /home/vijay/anaconda3/lib/python3.8/site-packages (from spacy<3.2.0,>=3.1.0->en-core-web-lg==3.1.0) (0.7.5)\n",
      "Requirement already satisfied: requests<3.0.0,>=2.13.0 in /home/vijay/.local/lib/python3.8/site-packages (from spacy<3.2.0,>=3.1.0->en-core-web-lg==3.1.0) (2.24.0)\n",
      "Requirement already satisfied: pydantic!=1.8,!=1.8.1,<1.9.0,>=1.7.4 in /home/vijay/anaconda3/lib/python3.8/site-packages (from spacy<3.2.0,>=3.1.0->en-core-web-lg==3.1.0) (1.8.2)\n",
      "Requirement already satisfied: wasabi<1.1.0,>=0.8.1 in /home/vijay/anaconda3/lib/python3.8/site-packages (from spacy<3.2.0,>=3.1.0->en-core-web-lg==3.1.0) (0.8.2)\n",
      "Requirement already satisfied: pathy>=0.3.5 in /home/vijay/anaconda3/lib/python3.8/site-packages (from spacy<3.2.0,>=3.1.0->en-core-web-lg==3.1.0) (0.6.1)\n",
      "Requirement already satisfied: murmurhash<1.1.0,>=0.28.0 in /home/vijay/anaconda3/lib/python3.8/site-packages (from spacy<3.2.0,>=3.1.0->en-core-web-lg==3.1.0) (1.0.6)\n",
      "Requirement already satisfied: preshed<3.1.0,>=3.0.2 in /home/vijay/anaconda3/lib/python3.8/site-packages (from spacy<3.2.0,>=3.1.0->en-core-web-lg==3.1.0) (3.0.6)\n",
      "Requirement already satisfied: srsly<3.0.0,>=2.4.1 in /home/vijay/anaconda3/lib/python3.8/site-packages (from spacy<3.2.0,>=3.1.0->en-core-web-lg==3.1.0) (2.4.2)\n",
      "Requirement already satisfied: cymem<2.1.0,>=2.0.2 in /home/vijay/anaconda3/lib/python3.8/site-packages (from spacy<3.2.0,>=3.1.0->en-core-web-lg==3.1.0) (2.0.6)\n",
      "Requirement already satisfied: jinja2 in /home/vijay/.local/lib/python3.8/site-packages (from spacy<3.2.0,>=3.1.0->en-core-web-lg==3.1.0) (2.11.2)\n",
      "Requirement already satisfied: thinc<8.1.0,>=8.0.12 in /home/vijay/anaconda3/lib/python3.8/site-packages (from spacy<3.2.0,>=3.1.0->en-core-web-lg==3.1.0) (8.0.12)\n",
      "Requirement already satisfied: packaging>=20.0 in /home/vijay/.local/lib/python3.8/site-packages (from spacy<3.2.0,>=3.1.0->en-core-web-lg==3.1.0) (20.4)\n",
      "Requirement already satisfied: numpy>=1.15.0 in /home/vijay/anaconda3/lib/python3.8/site-packages (from spacy<3.2.0,>=3.1.0->en-core-web-lg==3.1.0) (1.20.1)\n",
      "Requirement already satisfied: catalogue<2.1.0,>=2.0.6 in /home/vijay/anaconda3/lib/python3.8/site-packages (from spacy<3.2.0,>=3.1.0->en-core-web-lg==3.1.0) (2.0.6)\n",
      "Requirement already satisfied: six in /home/vijay/.local/lib/python3.8/site-packages (from packaging>=20.0->spacy<3.2.0,>=3.1.0->en-core-web-lg==3.1.0) (1.15.0)\n",
      "Requirement already satisfied: pyparsing>=2.0.2 in /home/vijay/.local/lib/python3.8/site-packages (from packaging>=20.0->spacy<3.2.0,>=3.1.0->en-core-web-lg==3.1.0) (2.4.7)\n",
      "Requirement already satisfied: smart-open<6.0.0,>=5.0.0 in /home/vijay/anaconda3/lib/python3.8/site-packages (from pathy>=0.3.5->spacy<3.2.0,>=3.1.0->en-core-web-lg==3.1.0) (5.2.1)\n",
      "Requirement already satisfied: typing-extensions>=3.7.4.3 in /home/vijay/anaconda3/lib/python3.8/site-packages (from pydantic!=1.8,!=1.8.1,<1.9.0,>=1.7.4->spacy<3.2.0,>=3.1.0->en-core-web-lg==3.1.0) (3.7.4.3)\n",
      "Requirement already satisfied: certifi>=2017.4.17 in /home/vijay/.local/lib/python3.8/site-packages (from requests<3.0.0,>=2.13.0->spacy<3.2.0,>=3.1.0->en-core-web-lg==3.1.0) (2020.6.20)\n",
      "Requirement already satisfied: idna<3,>=2.5 in /home/vijay/.local/lib/python3.8/site-packages (from requests<3.0.0,>=2.13.0->spacy<3.2.0,>=3.1.0->en-core-web-lg==3.1.0) (2.10)\n",
      "Requirement already satisfied: urllib3!=1.25.0,!=1.25.1,<1.26,>=1.21.1 in /home/vijay/.local/lib/python3.8/site-packages (from requests<3.0.0,>=2.13.0->spacy<3.2.0,>=3.1.0->en-core-web-lg==3.1.0) (1.25.10)\n",
      "Requirement already satisfied: chardet<4,>=3.0.2 in /home/vijay/anaconda3/lib/python3.8/site-packages (from requests<3.0.0,>=2.13.0->spacy<3.2.0,>=3.1.0->en-core-web-lg==3.1.0) (3.0.4)\n",
      "Requirement already satisfied: click<9.0.0,>=7.1.1 in /home/vijay/anaconda3/lib/python3.8/site-packages (from typer<0.5.0,>=0.3.0->spacy<3.2.0,>=3.1.0->en-core-web-lg==3.1.0) (7.1.2)\n",
      "Requirement already satisfied: MarkupSafe>=0.23 in /home/vijay/.local/lib/python3.8/site-packages (from jinja2->spacy<3.2.0,>=3.1.0->en-core-web-lg==3.1.0) (1.1.1)\n",
      "Installing collected packages: en-core-web-lg\n",
      "Successfully installed en-core-web-lg-3.1.0\n",
      "\u001b[38;5;2m✔ Download and installation successful\u001b[0m\n",
      "You can now load the package via spacy.load('en_core_web_lg')\n"
     ]
    }
   ],
   "source": [
    "!python -m spacy download en_core_web_lg;"
   ]
  },
  {
   "cell_type": "code",
   "execution_count": 19,
   "id": "1825a862",
   "metadata": {},
   "outputs": [],
   "source": [
    "import spacy\n",
    "import en_core_web_lg\n",
    "nlp = en_core_web_lg.load()"
   ]
  },
  {
   "cell_type": "code",
   "execution_count": 34,
   "id": "0742d034",
   "metadata": {},
   "outputs": [],
   "source": [
    "def check_concat(a,b,index_a):\n",
    "    clone=0\n",
    "    job_a = a[index_a]\n",
    "    for index_b in range(0,len(b)):\n",
    "        job_b = b[index_b]\n",
    "        comp_a = job_a.get('employer')\n",
    "        comp_a = ' '.join(comp_a.lower().split())\n",
    "        comp_b = job_b.get('employer')\n",
    "        comp_b = ' '.join(comp_b.lower().split())\n",
    "        if comp_a != comp_b:\n",
    "            break;\n",
    "        disc_a = job_a.get('discription')\n",
    "        disc_b = job_b.get('discription')\n",
    "        disc_a = ' '.join(disc_a.lower().split())\n",
    "        disc_b = ' '.join(disc_b.lower().split())\n",
    "        doc1 = nlp(disc_a)\n",
    "        doc2 = nlp(disc_b)\n",
    "        similar = doc1.similarity(doc2)\n",
    "        print(doc1.similarity(doc2))\n",
    "        if similar > 0.9:\n",
    "            print('Clone Found: '+str(similar))\n",
    "            clone=1\n",
    "            break;\n",
    "    if clone==0:\n",
    "        b=b.append(job_a)\n",
    "        \n",
    "        \n",
    "def filter_boi(a):\n",
    "    b=[]\n",
    "    for index_a in range(0,len(a)):\n",
    "        check_concat(a,b,index_a)\n",
    "    return b       "
   ]
  },
  {
   "cell_type": "code",
   "execution_count": 47,
   "id": "ec372815",
   "metadata": {},
   "outputs": [
    {
     "ename": "AttributeError",
     "evalue": "'NoneType' object has no attribute 'lower'",
     "output_type": "error",
     "traceback": [
      "\u001b[0;31m---------------------------------------------------------------------------\u001b[0m",
      "\u001b[0;31mAttributeError\u001b[0m                            Traceback (most recent call last)",
      "\u001b[0;32m<ipython-input-47-a79209bbb077>\u001b[0m in \u001b[0;36m<module>\u001b[0;34m\u001b[0m\n\u001b[0;32m----> 1\u001b[0;31m \u001b[0mfilter_boi\u001b[0m\u001b[0;34m(\u001b[0m\u001b[0mresult_data_indeed\u001b[0m\u001b[0;34m)\u001b[0m\u001b[0;34m\u001b[0m\u001b[0;34m\u001b[0m\u001b[0m\n\u001b[0m",
      "\u001b[0;32m<ipython-input-34-7392d727e71b>\u001b[0m in \u001b[0;36mfilter_boi\u001b[0;34m(a)\u001b[0m\n\u001b[1;32m     52\u001b[0m     \u001b[0mb\u001b[0m\u001b[0;34m=\u001b[0m\u001b[0;34m[\u001b[0m\u001b[0;34m]\u001b[0m\u001b[0;34m\u001b[0m\u001b[0;34m\u001b[0m\u001b[0m\n\u001b[1;32m     53\u001b[0m     \u001b[0;32mfor\u001b[0m \u001b[0mindex_a\u001b[0m \u001b[0;32min\u001b[0m \u001b[0mrange\u001b[0m\u001b[0;34m(\u001b[0m\u001b[0;36m0\u001b[0m\u001b[0;34m,\u001b[0m\u001b[0mlen\u001b[0m\u001b[0;34m(\u001b[0m\u001b[0ma\u001b[0m\u001b[0;34m)\u001b[0m\u001b[0;34m)\u001b[0m\u001b[0;34m:\u001b[0m\u001b[0;34m\u001b[0m\u001b[0;34m\u001b[0m\u001b[0m\n\u001b[0;32m---> 54\u001b[0;31m         \u001b[0mcheck_concat\u001b[0m\u001b[0;34m(\u001b[0m\u001b[0ma\u001b[0m\u001b[0;34m,\u001b[0m\u001b[0mb\u001b[0m\u001b[0;34m,\u001b[0m\u001b[0mindex_a\u001b[0m\u001b[0;34m)\u001b[0m\u001b[0;34m\u001b[0m\u001b[0;34m\u001b[0m\u001b[0m\n\u001b[0m\u001b[1;32m     55\u001b[0m     \u001b[0;32mreturn\u001b[0m \u001b[0mb\u001b[0m\u001b[0;34m\u001b[0m\u001b[0;34m\u001b[0m\u001b[0m\n",
      "\u001b[0;32m<ipython-input-34-7392d727e71b>\u001b[0m in \u001b[0;36mcheck_concat\u001b[0;34m(a, b, index_a)\u001b[0m\n\u001b[1;32m     28\u001b[0m         \u001b[0mjob_b\u001b[0m \u001b[0;34m=\u001b[0m \u001b[0mb\u001b[0m\u001b[0;34m[\u001b[0m\u001b[0mindex_b\u001b[0m\u001b[0;34m]\u001b[0m\u001b[0;34m\u001b[0m\u001b[0;34m\u001b[0m\u001b[0m\n\u001b[1;32m     29\u001b[0m         \u001b[0mcomp_a\u001b[0m \u001b[0;34m=\u001b[0m \u001b[0mjob_a\u001b[0m\u001b[0;34m.\u001b[0m\u001b[0mget\u001b[0m\u001b[0;34m(\u001b[0m\u001b[0;34m'employer'\u001b[0m\u001b[0;34m)\u001b[0m\u001b[0;34m\u001b[0m\u001b[0;34m\u001b[0m\u001b[0m\n\u001b[0;32m---> 30\u001b[0;31m         \u001b[0mcomp_a\u001b[0m \u001b[0;34m=\u001b[0m \u001b[0;34m' '\u001b[0m\u001b[0;34m.\u001b[0m\u001b[0mjoin\u001b[0m\u001b[0;34m(\u001b[0m\u001b[0mcomp_a\u001b[0m\u001b[0;34m.\u001b[0m\u001b[0mlower\u001b[0m\u001b[0;34m(\u001b[0m\u001b[0;34m)\u001b[0m\u001b[0;34m.\u001b[0m\u001b[0msplit\u001b[0m\u001b[0;34m(\u001b[0m\u001b[0;34m)\u001b[0m\u001b[0;34m)\u001b[0m\u001b[0;34m\u001b[0m\u001b[0;34m\u001b[0m\u001b[0m\n\u001b[0m\u001b[1;32m     31\u001b[0m         \u001b[0mcomp_b\u001b[0m \u001b[0;34m=\u001b[0m \u001b[0mjob_b\u001b[0m\u001b[0;34m.\u001b[0m\u001b[0mget\u001b[0m\u001b[0;34m(\u001b[0m\u001b[0;34m'employer'\u001b[0m\u001b[0;34m)\u001b[0m\u001b[0;34m\u001b[0m\u001b[0;34m\u001b[0m\u001b[0m\n\u001b[1;32m     32\u001b[0m         \u001b[0mcomp_b\u001b[0m \u001b[0;34m=\u001b[0m \u001b[0;34m' '\u001b[0m\u001b[0;34m.\u001b[0m\u001b[0mjoin\u001b[0m\u001b[0;34m(\u001b[0m\u001b[0mcomp_b\u001b[0m\u001b[0;34m.\u001b[0m\u001b[0mlower\u001b[0m\u001b[0;34m(\u001b[0m\u001b[0;34m)\u001b[0m\u001b[0;34m.\u001b[0m\u001b[0msplit\u001b[0m\u001b[0;34m(\u001b[0m\u001b[0;34m)\u001b[0m\u001b[0;34m)\u001b[0m\u001b[0;34m\u001b[0m\u001b[0;34m\u001b[0m\u001b[0m\n",
      "\u001b[0;31mAttributeError\u001b[0m: 'NoneType' object has no attribute 'lower'"
     ]
    }
   ],
   "source": [
    "filter_boi(result_data_indeed)"
   ]
  },
  {
   "cell_type": "code",
   "execution_count": null,
   "id": "468f60f2",
   "metadata": {},
   "outputs": [],
   "source": []
  }
 ],
 "metadata": {
  "kernelspec": {
   "display_name": "Python 3",
   "language": "python",
   "name": "python3"
  },
  "language_info": {
   "codemirror_mode": {
    "name": "ipython",
    "version": 3
   },
   "file_extension": ".py",
   "mimetype": "text/x-python",
   "name": "python",
   "nbconvert_exporter": "python",
   "pygments_lexer": "ipython3",
   "version": "3.8.8"
  }
 },
 "nbformat": 4,
 "nbformat_minor": 5
}
