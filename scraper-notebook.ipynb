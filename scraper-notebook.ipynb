{
 "cells": [
  {
   "cell_type": "code",
   "execution_count": 3,
   "id": "a3dce2de",
   "metadata": {},
   "outputs": [
    {
     "ename": "ModuleNotFoundError",
     "evalue": "No module named 'selenium'",
     "output_type": "error",
     "traceback": [
      "\u001b[0;31m---------------------------------------------------------------------------\u001b[0m",
      "\u001b[0;31mModuleNotFoundError\u001b[0m                       Traceback (most recent call last)",
      "\u001b[0;32m/tmp/ipykernel_16479/1729302400.py\u001b[0m in \u001b[0;36m<module>\u001b[0;34m\u001b[0m\n\u001b[0;32m----> 1\u001b[0;31m \u001b[0;32mfrom\u001b[0m \u001b[0mselenium\u001b[0m\u001b[0;34m.\u001b[0m\u001b[0mwebdriver\u001b[0m\u001b[0;34m.\u001b[0m\u001b[0mcommon\u001b[0m\u001b[0;34m.\u001b[0m\u001b[0mby\u001b[0m \u001b[0;32mimport\u001b[0m \u001b[0mBy\u001b[0m\u001b[0;34m\u001b[0m\u001b[0;34m\u001b[0m\u001b[0m\n\u001b[0m\u001b[1;32m      2\u001b[0m \u001b[0;32mfrom\u001b[0m \u001b[0mselenium\u001b[0m \u001b[0;32mimport\u001b[0m \u001b[0mwebdriver\u001b[0m\u001b[0;34m\u001b[0m\u001b[0;34m\u001b[0m\u001b[0m\n\u001b[1;32m      3\u001b[0m \u001b[0;32mfrom\u001b[0m \u001b[0mselenium\u001b[0m\u001b[0;34m.\u001b[0m\u001b[0mwebdriver\u001b[0m\u001b[0;34m.\u001b[0m\u001b[0mcommon\u001b[0m\u001b[0;34m.\u001b[0m\u001b[0mkeys\u001b[0m \u001b[0;32mimport\u001b[0m \u001b[0mKeys\u001b[0m\u001b[0;34m\u001b[0m\u001b[0;34m\u001b[0m\u001b[0m\n\u001b[1;32m      4\u001b[0m \u001b[0;32mfrom\u001b[0m \u001b[0mselenium\u001b[0m\u001b[0;34m.\u001b[0m\u001b[0mwebdriver\u001b[0m\u001b[0;34m.\u001b[0m\u001b[0msupport\u001b[0m\u001b[0;34m.\u001b[0m\u001b[0mui\u001b[0m \u001b[0;32mimport\u001b[0m \u001b[0mWebDriverWait\u001b[0m\u001b[0;34m\u001b[0m\u001b[0;34m\u001b[0m\u001b[0m\n\u001b[1;32m      5\u001b[0m \u001b[0;32mfrom\u001b[0m \u001b[0mselenium\u001b[0m\u001b[0;34m.\u001b[0m\u001b[0mwebdriver\u001b[0m\u001b[0;34m.\u001b[0m\u001b[0msupport\u001b[0m \u001b[0;32mimport\u001b[0m \u001b[0mexpected_conditions\u001b[0m \u001b[0;32mas\u001b[0m \u001b[0mEC\u001b[0m\u001b[0;34m\u001b[0m\u001b[0;34m\u001b[0m\u001b[0m\n",
      "\u001b[0;31mModuleNotFoundError\u001b[0m: No module named 'selenium'"
     ]
    }
   ],
   "source": [
    "from selenium.webdriver.common.by import By\n",
    "from selenium import webdriver\n",
    "from selenium.webdriver.common.keys import Keys\n",
    "from selenium.webdriver.support.ui import WebDriverWait\n",
    "from selenium.webdriver.support import expected_conditions as EC\n",
    "import pandas as pd\n",
    "\n",
    "DRIVER_PATH = '/home/vijay/chromedriver/chromedriver'\n",
    "driver = webdriver.Chrome(executable_path = DRIVER_PATH)\n",
    "driver.maximize_window()\n",
    "driver.delete_all_cookies()\n",
    "driver.get('https://indeed.com')"
   ]
  },
  {
   "cell_type": "code",
   "execution_count": null,
   "id": "526e48b5",
   "metadata": {},
   "outputs": [],
   "source": [
    "job_details = request.get_json()\n",
    "jobName = request_data['name']\n",
    "location = request_data['location']"
   ]
  },
  {
   "cell_type": "code",
   "execution_count": 37,
   "id": "b395cdd4",
   "metadata": {},
   "outputs": [],
   "source": [
    "search_job = driver.find_element_by_xpath('//*[@id=\"text-input-what\"]')\n",
    "search_job.send_keys(['data science'])\n",
    "search_location = driver.find_element_by_xpath('//*[@id=\"text-input-where\"]')\n",
    "search_location.send_keys(['delhi'])"
   ]
  },
  {
   "cell_type": "code",
   "execution_count": 39,
   "id": "49e27ea2",
   "metadata": {
    "scrolled": true
   },
   "outputs": [],
   "source": [
    "initial_search_button = driver.find_element_by_xpath('/html/body/div/div[2]/span/div[3]/div[1]/div/div/form/button')\n",
    "initial_search_button.click()\n",
    "driver.implicitly_wait(3)"
   ]
  },
  {
   "cell_type": "code",
   "execution_count": 40,
   "id": "4076c558",
   "metadata": {
    "scrolled": true
   },
   "outputs": [],
   "source": [
    "advanced_search = driver.find_element_by_xpath(\"//a[contains(text(),'Advanced Job Search')]\")\n",
    "advanced_search.click()"
   ]
  },
  {
   "cell_type": "code",
   "execution_count": 41,
   "id": "cf2e0cf8",
   "metadata": {},
   "outputs": [],
   "source": [
    "#search data science \n",
    "# search_job = driver.find_element_by_xpath('//input[@id=\"as_and\"]')\n",
    "# search_job.send_keys(['data science'])\n",
    "#set display limit of 30 results per page\n",
    "display_limit = driver.find_element_by_xpath('//select[@id=\"limit\"]//option[@value=\"30\"]')\n",
    "display_limit.click()\n",
    "#sort by date\n",
    "sort_option = driver.find_element_by_xpath('//select[@id=\"sort\"]//option[@value=\"date\"]')\n",
    "sort_option.click()\n",
    "search_button = driver.find_element_by_xpath('//*[@id=\"fj\"]')\n",
    "search_button.click()"
   ]
  },
  {
   "cell_type": "code",
   "execution_count": 42,
   "id": "eb221160",
   "metadata": {},
   "outputs": [],
   "source": [
    "close_popup = driver.find_element_by_xpath('//*[@id=\"popover-x\"]/button')\n",
    "close_popup.click()"
   ]
  },
  {
   "cell_type": "code",
   "execution_count": 46,
   "id": "5bf9e853",
   "metadata": {
    "scrolled": true
   },
   "outputs": [
    {
     "name": "stdout",
     "output_type": "stream",
     "text": [
      "[{'title': 'new\\nSenior Software Engineer - Data Analytics', 'company': 'PubMatic', 'salary': 'Not disclosed', 'location': 'New Delhi, Delhi•Temporarily Remote', 'review': '3.9'}, {'title': 'new\\nSoftware Engineering Lead - Linux, Open Source, or SAAS', 'company': 'Canonical - Jobs', 'salary': 'Not disclosed', 'location': 'Delhi, Delhi', 'review': 'None'}, {'title': 'new\\nData Scientist: Advanced Analytics', 'company': 'IBM', 'salary': 'Not disclosed', 'location': 'New Delhi, Delhi', 'review': '3.9'}, {'title': 'new\\nAssurance Associate - Forensics - National - Investigations...', 'company': 'EY', 'salary': 'Not disclosed', 'location': 'Gurgaon Road, Delhi', 'review': '4.0'}, {'title': 'new\\nConsultant - Business Consulting Risk - AMI - Internal Audit...', 'company': 'EY', 'salary': 'Not disclosed', 'location': 'Gurgaon Road, Delhi', 'review': '4.0'}, {'title': 'new\\nManager - Business Consulting Risk - TMT - Risk Assurance -...', 'company': 'EY', 'salary': 'Not disclosed', 'location': 'Gurgaon Road, Delhi', 'review': '4.0'}, {'title': 'new\\nManager - Business Consulting Risk - National - Risk Transfo...', 'company': 'EY', 'salary': 'Not disclosed', 'location': 'Gurgaon Road, Delhi', 'review': '4.0'}, {'title': 'new\\nAnalyst / Senior Solution Analyst - GAMMA, FI', 'company': 'Boston Consulting Group', 'salary': 'Not disclosed', 'location': 'Delhi, Delhi', 'review': '4.2'}, {'title': 'new\\nData Science Trainer', 'company': 'Badatya Private Limited', 'salary': 'Not disclosed', 'location': 'New Delhi, Delhi', 'review': 'None'}, {'title': 'new\\nConsultant - Tech Consulting - National - Data & Analytics -...', 'company': 'EY', 'salary': 'Not disclosed', 'location': 'Gurgaon Road, Delhi', 'review': '4.0'}, {'title': 'new\\nAssociate Consultant - Tech Consulting - National - Data & A...', 'company': 'EY', 'salary': 'Not disclosed', 'location': 'Gurgaon Road, Delhi', 'review': '4.0'}, {'title': 'new\\nPhD Research Mentor (Marketing/Management)', 'company': 'Redbridge Training & Consulting Ltd', 'salary': 'Not disclosed', 'location': 'New Delhi, Delhi•Remote', 'review': 'None'}, {'title': 'new\\nProject Team Leader', 'company': 'INDIAN SOCIAL RESPONSIBILITY NETWORK', 'salary': 'Not disclosed', 'location': 'Delhi, Delhi', 'review': 'None'}, {'title': 'new\\nAssociate Consultant - Forensics - National - Investigations...', 'company': 'EY', 'salary': 'Not disclosed', 'location': 'Gurgaon Road, Delhi', 'review': '4.0'}, {'title': 'new\\nMarketing Interns', 'company': 'Bee5 Manpower Consulting', 'salary': 'Not disclosed', 'location': 'Delhi, Delhi', 'review': 'None'}, {'title': 'new\\nConsultant - Business Consulting Risk - TMT - Risk Assurance...', 'company': 'EY', 'salary': 'Not disclosed', 'location': 'Gurgaon Road, Delhi', 'review': '4.0'}, {'title': 'new\\nManager - Business Consulting Risk - TMT - Technology Risk -...', 'company': 'EY', 'salary': 'Not disclosed', 'location': 'Gurgaon Road, Delhi', 'review': '4.0'}, {'title': 'new\\nData Science Intern', 'company': 'legit quest', 'salary': 'Not disclosed', 'location': 'Delhi, Delhi', 'review': 'None'}, {'title': 'new\\nSenior Data Scientist - Experimentation', 'company': 'Farfetch', 'salary': 'Not disclosed', 'location': 'Delhi, Delhi', 'review': 'None'}, {'title': 'new\\nLead Data Analyst', 'company': 'Farfetch', 'salary': 'Not disclosed', 'location': 'Delhi, Delhi', 'review': 'None'}, {'title': 'new\\nTalent Associate', 'company': 'The Massive Earth Foundation (MEF)', 'salary': 'Not disclosed', 'location': 'Delhi, Delhi•Temporarily Remote', 'review': 'None'}, {'title': 'new\\nBusiness Intelligence Developer (m/f/d) Qlik Sense', 'company': 'Sportstech Brands Holding GmbH', 'salary': 'Not disclosed', 'location': 'New Delhi, Delhi•Remote', 'review': 'None'}, {'title': 'new\\nSenior Data Scientist - Search & Discovery', 'company': 'Farfetch', 'salary': 'Not disclosed', 'location': 'Delhi, Delhi', 'review': 'None'}, {'title': 'new\\nAssociate Manager, Sourcing Ops & Analytics', 'company': 'Gap Inc.', 'salary': 'Not disclosed', 'location': 'New Delhi, Delhi', 'review': '3.7'}, {'title': 'new\\nSenior Data Engineer', 'company': 'Farfetch', 'salary': 'Not disclosed', 'location': 'Delhi, Delhi', 'review': 'None'}, {'title': 'new\\nAdvisor, Business Process Management (I7)', 'company': 'Dell Technologies', 'salary': 'Not disclosed', 'location': 'New Delhi, Delhi', 'review': '4.0'}, {'title': 'new\\nApplication Database Administrator: DBMS', 'company': 'IBM', 'salary': 'Not disclosed', 'location': 'New Delhi, Delhi', 'review': '3.9'}, {'title': 'new\\nSenior Infrastructure Engineer - Data Platform', 'company': 'Farfetch', 'salary': 'Not disclosed', 'location': 'Delhi, Delhi', 'review': 'None'}, {'title': 'new\\nJunior Architect', 'company': 'RGF Professional Recruitment', 'salary': 'Not disclosed', 'location': 'Delhi', 'review': 'None'}, {'title': 'new\\nDirector, Digital Health', 'company': 'PATH', 'salary': 'Not disclosed', 'location': 'New Delhi, Delhi', 'review': '3.9'}]\n"
     ]
    }
   ],
   "source": [
    "# driver.implicitly_wait(3) \n",
    "\n",
    "data_list = []\n",
    "\n",
    "# for i in range(0,2):\n",
    "job_card = driver.find_elements_by_xpath('//div[contains(@class,\"job_seen_beacon\")]')\n",
    "for job in job_card:\n",
    "    try:\n",
    "        review = job.find_element_by_xpath('.//span[@class=\"ratingNumber\"]').text\n",
    "    except:\n",
    "        review = \"None\"\n",
    "    try:\n",
    "        salary = job.find_element_by_xpath('.//span[@class=\"salary-snippet\"]').text\n",
    "    except:\n",
    "        salary = \"Not disclosed\"      \n",
    "        \n",
    "    try:\n",
    "        location = job.find_element_by_xpath('.//div[contains(@class,\"companyLocation\")]').text\n",
    "    except:\n",
    "        location = job.find_element_by_xpath('.//div[@class,\"companyLocation\"]').text\n",
    "        \n",
    "    try:\n",
    "        title  = job.find_element_by_class_name('jobTitle').text\n",
    "    except:\n",
    "        title = job.find_element_by_xpath('.//h2[@class=\"jobTitle\"]').get_attribute(name=\"span\")\n",
    "\n",
    "    company=job.find_element_by_xpath('.//span[@class=\"companyName\"]').text\n",
    "\n",
    "    data = { 'title': title, 'company':company,'salary':salary, 'location':location, 'review':review}\n",
    "    data_list.append(data);\n",
    "# next_page = driver.find_element_by_xpath('//a[@aria-label=\"{}\"]//span[@class=\"pn\"]'.format(i+2))\n",
    "# try:\n",
    "#   next_page = driver.find_element_by_xpath('/html/body/table[2]/tbody/tr/td/table/tbody/tr/td[1]/nav/div/ul/li[7]/a/span')\n",
    "#   next_page.click();\n",
    "# except:\n",
    "#   break\n",
    "result_data_indeed = data_list\n",
    "print(data_list)    "
   ]
  },
  {
   "cell_type": "code",
   "execution_count": 9,
   "id": "0c1ed672",
   "metadata": {
    "scrolled": true
   },
   "outputs": [
    {
     "name": "stdout",
     "output_type": "stream",
     "text": [
      "/home/vijay/.local/lib/python3.8/site-packages/secretstorage/dhcrypto.py:16: CryptographyDeprecationWarning: int_from_bytes is deprecated, use int.from_bytes instead\n",
      "  from cryptography.utils import int_from_bytes\n",
      "/home/vijay/.local/lib/python3.8/site-packages/secretstorage/util.py:25: CryptographyDeprecationWarning: int_from_bytes is deprecated, use int.from_bytes instead\n",
      "  from cryptography.utils import int_from_bytes\n",
      "Error initializing plugin EntryPoint(name='macOS', value='keyring.backends.macOS', group='keyring.backends').\n",
      "Traceback (most recent call last):\n",
      "  File \"/home/vijay/.local/lib/python3.8/site-packages/keyring/backend.py\", line 198, in _load_plugins\n",
      "    init_func = ep.load()\n",
      "  File \"/home/vijay/anaconda3/lib/python3.8/importlib/metadata.py\", line 77, in load\n",
      "    module = import_module(match.group('module'))\n",
      "  File \"/home/vijay/anaconda3/lib/python3.8/importlib/__init__.py\", line 127, in import_module\n",
      "    return _bootstrap._gcd_import(name[level:], package, level)\n",
      "  File \"<frozen importlib._bootstrap>\", line 1014, in _gcd_import\n",
      "  File \"<frozen importlib._bootstrap>\", line 991, in _find_and_load\n",
      "  File \"<frozen importlib._bootstrap>\", line 973, in _find_and_load_unlocked\n",
      "ModuleNotFoundError: No module named 'keyring.backends.macOS'\n",
      "Requirement already satisfied: spacy[cuda92] in /home/vijay/anaconda3/lib/python3.8/site-packages (3.1.4)\n",
      "Requirement already satisfied: pathy>=0.3.5 in /home/vijay/anaconda3/lib/python3.8/site-packages (from spacy[cuda92]) (0.6.1)\n",
      "Requirement already satisfied: wasabi<1.1.0,>=0.8.1 in /home/vijay/anaconda3/lib/python3.8/site-packages (from spacy[cuda92]) (0.8.2)\n",
      "Requirement already satisfied: preshed<3.1.0,>=3.0.2 in /home/vijay/anaconda3/lib/python3.8/site-packages (from spacy[cuda92]) (3.0.6)\n",
      "Requirement already satisfied: murmurhash<1.1.0,>=0.28.0 in /home/vijay/anaconda3/lib/python3.8/site-packages (from spacy[cuda92]) (1.0.6)\n",
      "Requirement already satisfied: spacy-legacy<3.1.0,>=3.0.8 in /home/vijay/anaconda3/lib/python3.8/site-packages (from spacy[cuda92]) (3.0.8)\n",
      "Requirement already satisfied: blis<0.8.0,>=0.4.0 in /home/vijay/anaconda3/lib/python3.8/site-packages (from spacy[cuda92]) (0.7.5)\n",
      "Requirement already satisfied: srsly<3.0.0,>=2.4.1 in /home/vijay/anaconda3/lib/python3.8/site-packages (from spacy[cuda92]) (2.4.2)\n",
      "Requirement already satisfied: tqdm<5.0.0,>=4.38.0 in /home/vijay/.local/lib/python3.8/site-packages (from spacy[cuda92]) (4.50.0)\n",
      "Requirement already satisfied: numpy>=1.15.0 in /home/vijay/anaconda3/lib/python3.8/site-packages (from spacy[cuda92]) (1.20.1)\n",
      "Requirement already satisfied: requests<3.0.0,>=2.13.0 in /home/vijay/.local/lib/python3.8/site-packages (from spacy[cuda92]) (2.24.0)\n",
      "Requirement already satisfied: cymem<2.1.0,>=2.0.2 in /home/vijay/anaconda3/lib/python3.8/site-packages (from spacy[cuda92]) (2.0.6)\n",
      "Requirement already satisfied: thinc<8.1.0,>=8.0.12 in /home/vijay/anaconda3/lib/python3.8/site-packages (from spacy[cuda92]) (8.0.12)\n",
      "Requirement already satisfied: jinja2 in /home/vijay/.local/lib/python3.8/site-packages (from spacy[cuda92]) (2.11.2)\n",
      "Requirement already satisfied: catalogue<2.1.0,>=2.0.6 in /home/vijay/anaconda3/lib/python3.8/site-packages (from spacy[cuda92]) (2.0.6)\n",
      "Requirement already satisfied: typer<0.5.0,>=0.3.0 in /home/vijay/anaconda3/lib/python3.8/site-packages (from spacy[cuda92]) (0.4.0)\n",
      "Requirement already satisfied: packaging>=20.0 in /home/vijay/.local/lib/python3.8/site-packages (from spacy[cuda92]) (20.4)\n",
      "Requirement already satisfied: setuptools in /home/vijay/anaconda3/lib/python3.8/site-packages (from spacy[cuda92]) (52.0.0.post20210125)\n",
      "Requirement already satisfied: pydantic!=1.8,!=1.8.1,<1.9.0,>=1.7.4 in /home/vijay/anaconda3/lib/python3.8/site-packages (from spacy[cuda92]) (1.8.2)\n",
      "Requirement already satisfied: cupy-cuda92<10.0.0,>=5.0.0b4 in /home/vijay/anaconda3/lib/python3.8/site-packages (from spacy[cuda92]) (9.5.0)\n",
      "Requirement already satisfied: fastrlock>=0.5 in /home/vijay/anaconda3/lib/python3.8/site-packages (from cupy-cuda92<10.0.0,>=5.0.0b4->spacy[cuda92]) (0.8)\n",
      "Requirement already satisfied: pyparsing>=2.0.2 in /home/vijay/.local/lib/python3.8/site-packages (from packaging>=20.0->spacy[cuda92]) (2.4.7)\n",
      "Requirement already satisfied: six in /home/vijay/.local/lib/python3.8/site-packages (from packaging>=20.0->spacy[cuda92]) (1.15.0)\n",
      "Requirement already satisfied: smart-open<6.0.0,>=5.0.0 in /home/vijay/anaconda3/lib/python3.8/site-packages (from pathy>=0.3.5->spacy[cuda92]) (5.2.1)\n",
      "Requirement already satisfied: typing-extensions>=3.7.4.3 in /home/vijay/anaconda3/lib/python3.8/site-packages (from pydantic!=1.8,!=1.8.1,<1.9.0,>=1.7.4->spacy[cuda92]) (3.7.4.3)\n",
      "Requirement already satisfied: chardet<4,>=3.0.2 in /home/vijay/anaconda3/lib/python3.8/site-packages (from requests<3.0.0,>=2.13.0->spacy[cuda92]) (3.0.4)\n",
      "Requirement already satisfied: certifi>=2017.4.17 in /home/vijay/.local/lib/python3.8/site-packages (from requests<3.0.0,>=2.13.0->spacy[cuda92]) (2020.6.20)\n",
      "Requirement already satisfied: idna<3,>=2.5 in /home/vijay/.local/lib/python3.8/site-packages (from requests<3.0.0,>=2.13.0->spacy[cuda92]) (2.10)\n",
      "Requirement already satisfied: urllib3!=1.25.0,!=1.25.1,<1.26,>=1.21.1 in /home/vijay/.local/lib/python3.8/site-packages (from requests<3.0.0,>=2.13.0->spacy[cuda92]) (1.25.10)\n",
      "Requirement already satisfied: click<9.0.0,>=7.1.1 in /home/vijay/anaconda3/lib/python3.8/site-packages (from typer<0.5.0,>=0.3.0->spacy[cuda92]) (7.1.2)\n",
      "Requirement already satisfied: MarkupSafe>=0.23 in /home/vijay/.local/lib/python3.8/site-packages (from jinja2->spacy[cuda92]) (1.1.1)\n"
     ]
    }
   ],
   "source": [
    "!pip install -U spacy[cuda92]"
   ]
  },
  {
   "cell_type": "code",
   "execution_count": 15,
   "id": "aae4eb4a",
   "metadata": {},
   "outputs": [
    {
     "name": "stdout",
     "output_type": "stream",
     "text": [
      "/home/vijay/.local/lib/python3.8/site-packages/secretstorage/dhcrypto.py:16: CryptographyDeprecationWarning: int_from_bytes is deprecated, use int.from_bytes instead\n",
      "  from cryptography.utils import int_from_bytes\n",
      "/home/vijay/.local/lib/python3.8/site-packages/secretstorage/util.py:25: CryptographyDeprecationWarning: int_from_bytes is deprecated, use int.from_bytes instead\n",
      "  from cryptography.utils import int_from_bytes\n",
      "Error initializing plugin EntryPoint(name='macOS', value='keyring.backends.macOS', group='keyring.backends').\n",
      "Traceback (most recent call last):\n",
      "  File \"/home/vijay/.local/lib/python3.8/site-packages/keyring/backend.py\", line 198, in _load_plugins\n",
      "    init_func = ep.load()\n",
      "  File \"/home/vijay/anaconda3/lib/python3.8/importlib/metadata.py\", line 77, in load\n",
      "    module = import_module(match.group('module'))\n",
      "  File \"/home/vijay/anaconda3/lib/python3.8/importlib/__init__.py\", line 127, in import_module\n",
      "    return _bootstrap._gcd_import(name[level:], package, level)\n",
      "  File \"<frozen importlib._bootstrap>\", line 1014, in _gcd_import\n",
      "  File \"<frozen importlib._bootstrap>\", line 991, in _find_and_load\n",
      "  File \"<frozen importlib._bootstrap>\", line 973, in _find_and_load_unlocked\n",
      "ModuleNotFoundError: No module named 'keyring.backends.macOS'\n",
      "Requirement already satisfied: spacy in /home/vijay/anaconda3/lib/python3.8/site-packages (3.1.4)\n",
      "Requirement already satisfied: cymem<2.1.0,>=2.0.2 in /home/vijay/anaconda3/lib/python3.8/site-packages (from spacy) (2.0.6)\n",
      "Requirement already satisfied: setuptools in /home/vijay/anaconda3/lib/python3.8/site-packages (from spacy) (52.0.0.post20210125)\n",
      "Requirement already satisfied: murmurhash<1.1.0,>=0.28.0 in /home/vijay/anaconda3/lib/python3.8/site-packages (from spacy) (1.0.6)\n",
      "Requirement already satisfied: pydantic!=1.8,!=1.8.1,<1.9.0,>=1.7.4 in /home/vijay/anaconda3/lib/python3.8/site-packages (from spacy) (1.8.2)\n",
      "Requirement already satisfied: wasabi<1.1.0,>=0.8.1 in /home/vijay/anaconda3/lib/python3.8/site-packages (from spacy) (0.8.2)\n",
      "Requirement already satisfied: srsly<3.0.0,>=2.4.1 in /home/vijay/anaconda3/lib/python3.8/site-packages (from spacy) (2.4.2)\n",
      "Requirement already satisfied: typer<0.5.0,>=0.3.0 in /home/vijay/anaconda3/lib/python3.8/site-packages (from spacy) (0.4.0)\n",
      "Requirement already satisfied: catalogue<2.1.0,>=2.0.6 in /home/vijay/anaconda3/lib/python3.8/site-packages (from spacy) (2.0.6)\n",
      "Requirement already satisfied: pathy>=0.3.5 in /home/vijay/anaconda3/lib/python3.8/site-packages (from spacy) (0.6.1)\n",
      "Requirement already satisfied: thinc<8.1.0,>=8.0.12 in /home/vijay/anaconda3/lib/python3.8/site-packages (from spacy) (8.0.12)\n",
      "Requirement already satisfied: numpy>=1.15.0 in /home/vijay/anaconda3/lib/python3.8/site-packages (from spacy) (1.20.1)\n",
      "Requirement already satisfied: packaging>=20.0 in /home/vijay/.local/lib/python3.8/site-packages (from spacy) (20.4)\n",
      "Requirement already satisfied: spacy-legacy<3.1.0,>=3.0.8 in /home/vijay/anaconda3/lib/python3.8/site-packages (from spacy) (3.0.8)\n",
      "Requirement already satisfied: requests<3.0.0,>=2.13.0 in /home/vijay/.local/lib/python3.8/site-packages (from spacy) (2.24.0)\n",
      "Requirement already satisfied: jinja2 in /home/vijay/.local/lib/python3.8/site-packages (from spacy) (2.11.2)\n",
      "Requirement already satisfied: tqdm<5.0.0,>=4.38.0 in /home/vijay/.local/lib/python3.8/site-packages (from spacy) (4.50.0)\n",
      "Requirement already satisfied: preshed<3.1.0,>=3.0.2 in /home/vijay/anaconda3/lib/python3.8/site-packages (from spacy) (3.0.6)\n",
      "Requirement already satisfied: blis<0.8.0,>=0.4.0 in /home/vijay/anaconda3/lib/python3.8/site-packages (from spacy) (0.7.5)\n",
      "Requirement already satisfied: pyparsing>=2.0.2 in /home/vijay/.local/lib/python3.8/site-packages (from packaging>=20.0->spacy) (2.4.7)\n",
      "Requirement already satisfied: six in /home/vijay/.local/lib/python3.8/site-packages (from packaging>=20.0->spacy) (1.15.0)\n",
      "Requirement already satisfied: smart-open<6.0.0,>=5.0.0 in /home/vijay/anaconda3/lib/python3.8/site-packages (from pathy>=0.3.5->spacy) (5.2.1)\n",
      "Requirement already satisfied: typing-extensions>=3.7.4.3 in /home/vijay/anaconda3/lib/python3.8/site-packages (from pydantic!=1.8,!=1.8.1,<1.9.0,>=1.7.4->spacy) (3.7.4.3)\n",
      "Requirement already satisfied: urllib3!=1.25.0,!=1.25.1,<1.26,>=1.21.1 in /home/vijay/.local/lib/python3.8/site-packages (from requests<3.0.0,>=2.13.0->spacy) (1.25.10)\n",
      "Requirement already satisfied: idna<3,>=2.5 in /home/vijay/.local/lib/python3.8/site-packages (from requests<3.0.0,>=2.13.0->spacy) (2.10)\n",
      "Requirement already satisfied: certifi>=2017.4.17 in /home/vijay/.local/lib/python3.8/site-packages (from requests<3.0.0,>=2.13.0->spacy) (2020.6.20)\n",
      "Requirement already satisfied: chardet<4,>=3.0.2 in /home/vijay/anaconda3/lib/python3.8/site-packages (from requests<3.0.0,>=2.13.0->spacy) (3.0.4)\n",
      "Requirement already satisfied: click<9.0.0,>=7.1.1 in /home/vijay/anaconda3/lib/python3.8/site-packages (from typer<0.5.0,>=0.3.0->spacy) (7.1.2)\n",
      "Requirement already satisfied: MarkupSafe>=0.23 in /home/vijay/.local/lib/python3.8/site-packages (from jinja2->spacy) (1.1.1)\n"
     ]
    }
   ],
   "source": [
    "!pip install -U spacy"
   ]
  },
  {
   "cell_type": "code",
   "execution_count": 10,
   "id": "fcc26c95",
   "metadata": {
    "scrolled": true
   },
   "outputs": [
    {
     "name": "stdout",
     "output_type": "stream",
     "text": [
      "/home/vijay/.local/lib/python3.8/site-packages/secretstorage/dhcrypto.py:16: CryptographyDeprecationWarning: int_from_bytes is deprecated, use int.from_bytes instead\n",
      "  from cryptography.utils import int_from_bytes\n",
      "/home/vijay/.local/lib/python3.8/site-packages/secretstorage/util.py:25: CryptographyDeprecationWarning: int_from_bytes is deprecated, use int.from_bytes instead\n",
      "  from cryptography.utils import int_from_bytes\n",
      "Error initializing plugin EntryPoint(name='macOS', value='keyring.backends.macOS', group='keyring.backends').\n",
      "Traceback (most recent call last):\n",
      "  File \"/home/vijay/.local/lib/python3.8/site-packages/keyring/backend.py\", line 198, in _load_plugins\n",
      "    init_func = ep.load()\n",
      "  File \"/home/vijay/anaconda3/lib/python3.8/importlib/metadata.py\", line 77, in load\n",
      "    module = import_module(match.group('module'))\n",
      "  File \"/home/vijay/anaconda3/lib/python3.8/importlib/__init__.py\", line 127, in import_module\n",
      "    return _bootstrap._gcd_import(name[level:], package, level)\n",
      "  File \"<frozen importlib._bootstrap>\", line 1014, in _gcd_import\n",
      "  File \"<frozen importlib._bootstrap>\", line 991, in _find_and_load\n",
      "  File \"<frozen importlib._bootstrap>\", line 973, in _find_and_load_unlocked\n",
      "ModuleNotFoundError: No module named 'keyring.backends.macOS'\n",
      "Collecting en-core-web-lg==3.1.0\n",
      "  Downloading https://github.com/explosion/spacy-models/releases/download/en_core_web_lg-3.1.0/en_core_web_lg-3.1.0-py3-none-any.whl (777.1 MB)\n",
      "\u001b[K     |████████████████████████████████| 777.1 MB 6.7 kB/s \n",
      "\u001b[?25hRequirement already satisfied: spacy<3.2.0,>=3.1.0 in /home/vijay/anaconda3/lib/python3.8/site-packages (from en-core-web-lg==3.1.0) (3.1.4)\n",
      "Requirement already satisfied: numpy>=1.15.0 in /home/vijay/anaconda3/lib/python3.8/site-packages (from spacy<3.2.0,>=3.1.0->en-core-web-lg==3.1.0) (1.20.1)\n",
      "Requirement already satisfied: wasabi<1.1.0,>=0.8.1 in /home/vijay/anaconda3/lib/python3.8/site-packages (from spacy<3.2.0,>=3.1.0->en-core-web-lg==3.1.0) (0.8.2)\n",
      "Requirement already satisfied: typer<0.5.0,>=0.3.0 in /home/vijay/anaconda3/lib/python3.8/site-packages (from spacy<3.2.0,>=3.1.0->en-core-web-lg==3.1.0) (0.4.0)\n",
      "Requirement already satisfied: setuptools in /home/vijay/anaconda3/lib/python3.8/site-packages (from spacy<3.2.0,>=3.1.0->en-core-web-lg==3.1.0) (52.0.0.post20210125)\n",
      "Requirement already satisfied: catalogue<2.1.0,>=2.0.6 in /home/vijay/anaconda3/lib/python3.8/site-packages (from spacy<3.2.0,>=3.1.0->en-core-web-lg==3.1.0) (2.0.6)\n",
      "Requirement already satisfied: preshed<3.1.0,>=3.0.2 in /home/vijay/anaconda3/lib/python3.8/site-packages (from spacy<3.2.0,>=3.1.0->en-core-web-lg==3.1.0) (3.0.6)\n",
      "Requirement already satisfied: requests<3.0.0,>=2.13.0 in /home/vijay/.local/lib/python3.8/site-packages (from spacy<3.2.0,>=3.1.0->en-core-web-lg==3.1.0) (2.24.0)\n",
      "Requirement already satisfied: cymem<2.1.0,>=2.0.2 in /home/vijay/anaconda3/lib/python3.8/site-packages (from spacy<3.2.0,>=3.1.0->en-core-web-lg==3.1.0) (2.0.6)\n",
      "Requirement already satisfied: murmurhash<1.1.0,>=0.28.0 in /home/vijay/anaconda3/lib/python3.8/site-packages (from spacy<3.2.0,>=3.1.0->en-core-web-lg==3.1.0) (1.0.6)\n",
      "Requirement already satisfied: jinja2 in /home/vijay/.local/lib/python3.8/site-packages (from spacy<3.2.0,>=3.1.0->en-core-web-lg==3.1.0) (2.11.2)\n",
      "Requirement already satisfied: spacy-legacy<3.1.0,>=3.0.8 in /home/vijay/anaconda3/lib/python3.8/site-packages (from spacy<3.2.0,>=3.1.0->en-core-web-lg==3.1.0) (3.0.8)\n",
      "Requirement already satisfied: pathy>=0.3.5 in /home/vijay/anaconda3/lib/python3.8/site-packages (from spacy<3.2.0,>=3.1.0->en-core-web-lg==3.1.0) (0.6.1)\n",
      "Requirement already satisfied: thinc<8.1.0,>=8.0.12 in /home/vijay/anaconda3/lib/python3.8/site-packages (from spacy<3.2.0,>=3.1.0->en-core-web-lg==3.1.0) (8.0.12)\n",
      "Requirement already satisfied: tqdm<5.0.0,>=4.38.0 in /home/vijay/.local/lib/python3.8/site-packages (from spacy<3.2.0,>=3.1.0->en-core-web-lg==3.1.0) (4.50.0)\n",
      "Requirement already satisfied: packaging>=20.0 in /home/vijay/.local/lib/python3.8/site-packages (from spacy<3.2.0,>=3.1.0->en-core-web-lg==3.1.0) (20.4)\n",
      "Requirement already satisfied: srsly<3.0.0,>=2.4.1 in /home/vijay/anaconda3/lib/python3.8/site-packages (from spacy<3.2.0,>=3.1.0->en-core-web-lg==3.1.0) (2.4.2)\n",
      "Requirement already satisfied: blis<0.8.0,>=0.4.0 in /home/vijay/anaconda3/lib/python3.8/site-packages (from spacy<3.2.0,>=3.1.0->en-core-web-lg==3.1.0) (0.7.5)\n",
      "Requirement already satisfied: pydantic!=1.8,!=1.8.1,<1.9.0,>=1.7.4 in /home/vijay/anaconda3/lib/python3.8/site-packages (from spacy<3.2.0,>=3.1.0->en-core-web-lg==3.1.0) (1.8.2)\n",
      "Requirement already satisfied: pyparsing>=2.0.2 in /home/vijay/.local/lib/python3.8/site-packages (from packaging>=20.0->spacy<3.2.0,>=3.1.0->en-core-web-lg==3.1.0) (2.4.7)\n",
      "Requirement already satisfied: six in /home/vijay/.local/lib/python3.8/site-packages (from packaging>=20.0->spacy<3.2.0,>=3.1.0->en-core-web-lg==3.1.0) (1.15.0)\n",
      "Requirement already satisfied: smart-open<6.0.0,>=5.0.0 in /home/vijay/anaconda3/lib/python3.8/site-packages (from pathy>=0.3.5->spacy<3.2.0,>=3.1.0->en-core-web-lg==3.1.0) (5.2.1)\n",
      "Requirement already satisfied: typing-extensions>=3.7.4.3 in /home/vijay/anaconda3/lib/python3.8/site-packages (from pydantic!=1.8,!=1.8.1,<1.9.0,>=1.7.4->spacy<3.2.0,>=3.1.0->en-core-web-lg==3.1.0) (3.7.4.3)\n",
      "Requirement already satisfied: urllib3!=1.25.0,!=1.25.1,<1.26,>=1.21.1 in /home/vijay/.local/lib/python3.8/site-packages (from requests<3.0.0,>=2.13.0->spacy<3.2.0,>=3.1.0->en-core-web-lg==3.1.0) (1.25.10)\n",
      "Requirement already satisfied: certifi>=2017.4.17 in /home/vijay/.local/lib/python3.8/site-packages (from requests<3.0.0,>=2.13.0->spacy<3.2.0,>=3.1.0->en-core-web-lg==3.1.0) (2020.6.20)\n",
      "Requirement already satisfied: idna<3,>=2.5 in /home/vijay/.local/lib/python3.8/site-packages (from requests<3.0.0,>=2.13.0->spacy<3.2.0,>=3.1.0->en-core-web-lg==3.1.0) (2.10)\n",
      "Requirement already satisfied: chardet<4,>=3.0.2 in /home/vijay/anaconda3/lib/python3.8/site-packages (from requests<3.0.0,>=2.13.0->spacy<3.2.0,>=3.1.0->en-core-web-lg==3.1.0) (3.0.4)\n",
      "Requirement already satisfied: click<9.0.0,>=7.1.1 in /home/vijay/anaconda3/lib/python3.8/site-packages (from typer<0.5.0,>=0.3.0->spacy<3.2.0,>=3.1.0->en-core-web-lg==3.1.0) (7.1.2)\n",
      "Requirement already satisfied: MarkupSafe>=0.23 in /home/vijay/.local/lib/python3.8/site-packages (from jinja2->spacy<3.2.0,>=3.1.0->en-core-web-lg==3.1.0) (1.1.1)\n",
      "\u001b[38;5;2m✔ Download and installation successful\u001b[0m\n",
      "You can now load the package via spacy.load('en_core_web_lg')\n"
     ]
    }
   ],
   "source": [
    "!python -m spacy download en_core_web_lg"
   ]
  },
  {
   "cell_type": "code",
   "execution_count": 19,
   "id": "4644ece0",
   "metadata": {},
   "outputs": [
    {
     "name": "stdout",
     "output_type": "stream",
     "text": [
      "/home/vijay/.local/lib/python3.8/site-packages/secretstorage/dhcrypto.py:16: CryptographyDeprecationWarning: int_from_bytes is deprecated, use int.from_bytes instead\n",
      "  from cryptography.utils import int_from_bytes\n",
      "/home/vijay/.local/lib/python3.8/site-packages/secretstorage/util.py:25: CryptographyDeprecationWarning: int_from_bytes is deprecated, use int.from_bytes instead\n",
      "  from cryptography.utils import int_from_bytes\n",
      "Error initializing plugin EntryPoint(name='macOS', value='keyring.backends.macOS', group='keyring.backends').\n",
      "Traceback (most recent call last):\n",
      "  File \"/home/vijay/.local/lib/python3.8/site-packages/keyring/backend.py\", line 198, in _load_plugins\n",
      "    init_func = ep.load()\n",
      "  File \"/home/vijay/anaconda3/lib/python3.8/importlib/metadata.py\", line 77, in load\n",
      "    module = import_module(match.group('module'))\n",
      "  File \"/home/vijay/anaconda3/lib/python3.8/importlib/__init__.py\", line 127, in import_module\n",
      "    return _bootstrap._gcd_import(name[level:], package, level)\n",
      "  File \"<frozen importlib._bootstrap>\", line 1014, in _gcd_import\n",
      "  File \"<frozen importlib._bootstrap>\", line 991, in _find_and_load\n",
      "  File \"<frozen importlib._bootstrap>\", line 973, in _find_and_load_unlocked\n",
      "ModuleNotFoundError: No module named 'keyring.backends.macOS'\n",
      "Requirement already satisfied: spacy in /home/vijay/anaconda3/lib/python3.8/site-packages (3.1.4)\n",
      "Requirement already satisfied: pydantic!=1.8,!=1.8.1,<1.9.0,>=1.7.4 in /home/vijay/anaconda3/lib/python3.8/site-packages (from spacy) (1.8.2)\n",
      "Requirement already satisfied: cymem<2.1.0,>=2.0.2 in /home/vijay/anaconda3/lib/python3.8/site-packages (from spacy) (2.0.6)\n",
      "Requirement already satisfied: tqdm<5.0.0,>=4.38.0 in /home/vijay/.local/lib/python3.8/site-packages (from spacy) (4.50.0)\n",
      "Requirement already satisfied: thinc<8.1.0,>=8.0.12 in /home/vijay/anaconda3/lib/python3.8/site-packages (from spacy) (8.0.12)\n",
      "Requirement already satisfied: catalogue<2.1.0,>=2.0.6 in /home/vijay/anaconda3/lib/python3.8/site-packages (from spacy) (2.0.6)\n",
      "Requirement already satisfied: murmurhash<1.1.0,>=0.28.0 in /home/vijay/anaconda3/lib/python3.8/site-packages (from spacy) (1.0.6)\n",
      "Requirement already satisfied: pathy>=0.3.5 in /home/vijay/anaconda3/lib/python3.8/site-packages (from spacy) (0.6.1)\n",
      "Requirement already satisfied: jinja2 in /home/vijay/.local/lib/python3.8/site-packages (from spacy) (2.11.2)\n",
      "Requirement already satisfied: spacy-legacy<3.1.0,>=3.0.8 in /home/vijay/anaconda3/lib/python3.8/site-packages (from spacy) (3.0.8)\n",
      "Requirement already satisfied: packaging>=20.0 in /home/vijay/.local/lib/python3.8/site-packages (from spacy) (20.4)\n",
      "Requirement already satisfied: srsly<3.0.0,>=2.4.1 in /home/vijay/anaconda3/lib/python3.8/site-packages (from spacy) (2.4.2)\n",
      "Requirement already satisfied: typer<0.5.0,>=0.3.0 in /home/vijay/anaconda3/lib/python3.8/site-packages (from spacy) (0.4.0)\n",
      "Requirement already satisfied: wasabi<1.1.0,>=0.8.1 in /home/vijay/anaconda3/lib/python3.8/site-packages (from spacy) (0.8.2)\n",
      "Requirement already satisfied: numpy>=1.15.0 in /home/vijay/anaconda3/lib/python3.8/site-packages (from spacy) (1.20.1)\n",
      "Requirement already satisfied: blis<0.8.0,>=0.4.0 in /home/vijay/anaconda3/lib/python3.8/site-packages (from spacy) (0.7.5)\n",
      "Requirement already satisfied: setuptools in /home/vijay/anaconda3/lib/python3.8/site-packages (from spacy) (52.0.0.post20210125)\n",
      "Requirement already satisfied: preshed<3.1.0,>=3.0.2 in /home/vijay/anaconda3/lib/python3.8/site-packages (from spacy) (3.0.6)\n",
      "Requirement already satisfied: requests<3.0.0,>=2.13.0 in /home/vijay/.local/lib/python3.8/site-packages (from spacy) (2.24.0)\n",
      "Requirement already satisfied: six in /home/vijay/.local/lib/python3.8/site-packages (from packaging>=20.0->spacy) (1.15.0)\n",
      "Requirement already satisfied: pyparsing>=2.0.2 in /home/vijay/.local/lib/python3.8/site-packages (from packaging>=20.0->spacy) (2.4.7)\n",
      "Requirement already satisfied: smart-open<6.0.0,>=5.0.0 in /home/vijay/anaconda3/lib/python3.8/site-packages (from pathy>=0.3.5->spacy) (5.2.1)\n",
      "Requirement already satisfied: typing-extensions>=3.7.4.3 in /home/vijay/anaconda3/lib/python3.8/site-packages (from pydantic!=1.8,!=1.8.1,<1.9.0,>=1.7.4->spacy) (3.7.4.3)\n",
      "Requirement already satisfied: idna<3,>=2.5 in /home/vijay/.local/lib/python3.8/site-packages (from requests<3.0.0,>=2.13.0->spacy) (2.10)\n",
      "Requirement already satisfied: certifi>=2017.4.17 in /home/vijay/.local/lib/python3.8/site-packages (from requests<3.0.0,>=2.13.0->spacy) (2020.6.20)\n",
      "Requirement already satisfied: chardet<4,>=3.0.2 in /home/vijay/anaconda3/lib/python3.8/site-packages (from requests<3.0.0,>=2.13.0->spacy) (3.0.4)\n",
      "Requirement already satisfied: urllib3!=1.25.0,!=1.25.1,<1.26,>=1.21.1 in /home/vijay/.local/lib/python3.8/site-packages (from requests<3.0.0,>=2.13.0->spacy) (1.25.10)\n",
      "Requirement already satisfied: click<9.0.0,>=7.1.1 in /home/vijay/anaconda3/lib/python3.8/site-packages (from typer<0.5.0,>=0.3.0->spacy) (7.1.2)\n",
      "Requirement already satisfied: MarkupSafe>=0.23 in /home/vijay/.local/lib/python3.8/site-packages (from jinja2->spacy) (1.1.1)\n",
      "/home/vijay/.local/lib/python3.8/site-packages/secretstorage/dhcrypto.py:16: CryptographyDeprecationWarning: int_from_bytes is deprecated, use int.from_bytes instead\n",
      "  from cryptography.utils import int_from_bytes\n",
      "/home/vijay/.local/lib/python3.8/site-packages/secretstorage/util.py:25: CryptographyDeprecationWarning: int_from_bytes is deprecated, use int.from_bytes instead\n",
      "  from cryptography.utils import int_from_bytes\n",
      "Error initializing plugin EntryPoint(name='macOS', value='keyring.backends.macOS', group='keyring.backends').\n",
      "Traceback (most recent call last):\n",
      "  File \"/home/vijay/.local/lib/python3.8/site-packages/keyring/backend.py\", line 198, in _load_plugins\n",
      "    init_func = ep.load()\n",
      "  File \"/home/vijay/anaconda3/lib/python3.8/importlib/metadata.py\", line 77, in load\n",
      "    module = import_module(match.group('module'))\n",
      "  File \"/home/vijay/anaconda3/lib/python3.8/importlib/__init__.py\", line 127, in import_module\n",
      "    return _bootstrap._gcd_import(name[level:], package, level)\n",
      "  File \"<frozen importlib._bootstrap>\", line 1014, in _gcd_import\n",
      "  File \"<frozen importlib._bootstrap>\", line 991, in _find_and_load\n",
      "  File \"<frozen importlib._bootstrap>\", line 973, in _find_and_load_unlocked\n",
      "ModuleNotFoundError: No module named 'keyring.backends.macOS'\n",
      "Collecting en-core-web-lg==3.1.0\n",
      "  Downloading https://github.com/explosion/spacy-models/releases/download/en_core_web_lg-3.1.0/en_core_web_lg-3.1.0-py3-none-any.whl (777.1 MB)\n",
      "\u001b[K     |████████████████████████████████| 777.1 MB 6.0 kB/s \n",
      "\u001b[?25hRequirement already satisfied: spacy<3.2.0,>=3.1.0 in /home/vijay/anaconda3/lib/python3.8/site-packages (from en-core-web-lg==3.1.0) (3.1.4)\n",
      "Requirement already satisfied: wasabi<1.1.0,>=0.8.1 in /home/vijay/anaconda3/lib/python3.8/site-packages (from spacy<3.2.0,>=3.1.0->en-core-web-lg==3.1.0) (0.8.2)\n",
      "Requirement already satisfied: setuptools in /home/vijay/anaconda3/lib/python3.8/site-packages (from spacy<3.2.0,>=3.1.0->en-core-web-lg==3.1.0) (52.0.0.post20210125)\n",
      "Requirement already satisfied: preshed<3.1.0,>=3.0.2 in /home/vijay/anaconda3/lib/python3.8/site-packages (from spacy<3.2.0,>=3.1.0->en-core-web-lg==3.1.0) (3.0.6)\n",
      "Requirement already satisfied: pathy>=0.3.5 in /home/vijay/anaconda3/lib/python3.8/site-packages (from spacy<3.2.0,>=3.1.0->en-core-web-lg==3.1.0) (0.6.1)\n",
      "Requirement already satisfied: cymem<2.1.0,>=2.0.2 in /home/vijay/anaconda3/lib/python3.8/site-packages (from spacy<3.2.0,>=3.1.0->en-core-web-lg==3.1.0) (2.0.6)\n",
      "Requirement already satisfied: typer<0.5.0,>=0.3.0 in /home/vijay/anaconda3/lib/python3.8/site-packages (from spacy<3.2.0,>=3.1.0->en-core-web-lg==3.1.0) (0.4.0)\n",
      "Requirement already satisfied: pydantic!=1.8,!=1.8.1,<1.9.0,>=1.7.4 in /home/vijay/anaconda3/lib/python3.8/site-packages (from spacy<3.2.0,>=3.1.0->en-core-web-lg==3.1.0) (1.8.2)\n",
      "Requirement already satisfied: requests<3.0.0,>=2.13.0 in /home/vijay/.local/lib/python3.8/site-packages (from spacy<3.2.0,>=3.1.0->en-core-web-lg==3.1.0) (2.24.0)\n",
      "Requirement already satisfied: spacy-legacy<3.1.0,>=3.0.8 in /home/vijay/anaconda3/lib/python3.8/site-packages (from spacy<3.2.0,>=3.1.0->en-core-web-lg==3.1.0) (3.0.8)\n",
      "Requirement already satisfied: numpy>=1.15.0 in /home/vijay/anaconda3/lib/python3.8/site-packages (from spacy<3.2.0,>=3.1.0->en-core-web-lg==3.1.0) (1.20.1)\n",
      "Requirement already satisfied: jinja2 in /home/vijay/.local/lib/python3.8/site-packages (from spacy<3.2.0,>=3.1.0->en-core-web-lg==3.1.0) (2.11.2)\n",
      "Requirement already satisfied: catalogue<2.1.0,>=2.0.6 in /home/vijay/anaconda3/lib/python3.8/site-packages (from spacy<3.2.0,>=3.1.0->en-core-web-lg==3.1.0) (2.0.6)\n",
      "Requirement already satisfied: blis<0.8.0,>=0.4.0 in /home/vijay/anaconda3/lib/python3.8/site-packages (from spacy<3.2.0,>=3.1.0->en-core-web-lg==3.1.0) (0.7.5)\n",
      "Requirement already satisfied: srsly<3.0.0,>=2.4.1 in /home/vijay/anaconda3/lib/python3.8/site-packages (from spacy<3.2.0,>=3.1.0->en-core-web-lg==3.1.0) (2.4.2)\n",
      "Requirement already satisfied: packaging>=20.0 in /home/vijay/.local/lib/python3.8/site-packages (from spacy<3.2.0,>=3.1.0->en-core-web-lg==3.1.0) (20.4)\n",
      "Requirement already satisfied: thinc<8.1.0,>=8.0.12 in /home/vijay/anaconda3/lib/python3.8/site-packages (from spacy<3.2.0,>=3.1.0->en-core-web-lg==3.1.0) (8.0.12)\n",
      "Requirement already satisfied: murmurhash<1.1.0,>=0.28.0 in /home/vijay/anaconda3/lib/python3.8/site-packages (from spacy<3.2.0,>=3.1.0->en-core-web-lg==3.1.0) (1.0.6)\n",
      "Requirement already satisfied: tqdm<5.0.0,>=4.38.0 in /home/vijay/.local/lib/python3.8/site-packages (from spacy<3.2.0,>=3.1.0->en-core-web-lg==3.1.0) (4.50.0)\n",
      "Requirement already satisfied: six in /home/vijay/.local/lib/python3.8/site-packages (from packaging>=20.0->spacy<3.2.0,>=3.1.0->en-core-web-lg==3.1.0) (1.15.0)\n",
      "Requirement already satisfied: pyparsing>=2.0.2 in /home/vijay/.local/lib/python3.8/site-packages (from packaging>=20.0->spacy<3.2.0,>=3.1.0->en-core-web-lg==3.1.0) (2.4.7)\n",
      "Requirement already satisfied: smart-open<6.0.0,>=5.0.0 in /home/vijay/anaconda3/lib/python3.8/site-packages (from pathy>=0.3.5->spacy<3.2.0,>=3.1.0->en-core-web-lg==3.1.0) (5.2.1)\n",
      "Requirement already satisfied: typing-extensions>=3.7.4.3 in /home/vijay/anaconda3/lib/python3.8/site-packages (from pydantic!=1.8,!=1.8.1,<1.9.0,>=1.7.4->spacy<3.2.0,>=3.1.0->en-core-web-lg==3.1.0) (3.7.4.3)\n",
      "Requirement already satisfied: urllib3!=1.25.0,!=1.25.1,<1.26,>=1.21.1 in /home/vijay/.local/lib/python3.8/site-packages (from requests<3.0.0,>=2.13.0->spacy<3.2.0,>=3.1.0->en-core-web-lg==3.1.0) (1.25.10)\n",
      "Requirement already satisfied: certifi>=2017.4.17 in /home/vijay/.local/lib/python3.8/site-packages (from requests<3.0.0,>=2.13.0->spacy<3.2.0,>=3.1.0->en-core-web-lg==3.1.0) (2020.6.20)\n",
      "Requirement already satisfied: chardet<4,>=3.0.2 in /home/vijay/anaconda3/lib/python3.8/site-packages (from requests<3.0.0,>=2.13.0->spacy<3.2.0,>=3.1.0->en-core-web-lg==3.1.0) (3.0.4)\n",
      "Requirement already satisfied: idna<3,>=2.5 in /home/vijay/.local/lib/python3.8/site-packages (from requests<3.0.0,>=2.13.0->spacy<3.2.0,>=3.1.0->en-core-web-lg==3.1.0) (2.10)\n",
      "Requirement already satisfied: click<9.0.0,>=7.1.1 in /home/vijay/anaconda3/lib/python3.8/site-packages (from typer<0.5.0,>=0.3.0->spacy<3.2.0,>=3.1.0->en-core-web-lg==3.1.0) (7.1.2)\n",
      "Requirement already satisfied: MarkupSafe>=0.23 in /home/vijay/.local/lib/python3.8/site-packages (from jinja2->spacy<3.2.0,>=3.1.0->en-core-web-lg==3.1.0) (1.1.1)\n",
      "\u001b[38;5;2m✔ Download and installation successful\u001b[0m\n",
      "You can now load the package via spacy.load('en_core_web_lg')\n"
     ]
    }
   ],
   "source": [
    "!pip install -U spacy\n",
    "!python -m spacy download en_core_web_lg"
   ]
  },
  {
   "cell_type": "code",
   "execution_count": 2,
   "id": "8bd280dd",
   "metadata": {},
   "outputs": [],
   "source": [
    "import spacy\n",
    "import en_core_web_lg\n",
    "nlp = en_core_web_lg.load()\n"
   ]
  },
  {
   "cell_type": "code",
   "execution_count": 3,
   "id": "fc6b7aae",
   "metadata": {},
   "outputs": [],
   "source": [
    "a = [{'title': 'Junior Website Developer',\n",
    "      'employer': 'GM Analytics Solutions',\n",
    "      'experience': '2-5 Yrs',\n",
    "      'salary': 'Not disclosed',\n",
    "      'location': 'Gurgaon/Gurugram(Cyber City)',\n",
    "      'discription': 'GM Analytics is looking for a Junior Web Designer and Developer to work with our Web an...',\n",
    "      'tags': \"'Wordpress Developer', 'web developer', 'php developer', 'webdesigner'\"},\n",
    "     {'title': 'Website Developer and Designer',\n",
    "      'employer': 'Mango People shop',\n",
    "      'experience': '2-7 Yrs',\n",
    "      'salary': 'Not disclosed',\n",
    "      'location': 'Noida, Bengaluru',\n",
    "      'discription': \"We're looking for web designers who can create a fun, crazy, out-of-the box look, layou...\",\n",
    "      'tags': \"'Object oriented design', 'Content management', 'jQuery', 'Web technologies', 'Wordpress', 'Javascript', 'Animation', 'E-commerce'\"},\n",
    "     {'title': 'Website Developer',\n",
    "     'employer': 'Mango People',\n",
    "      'experience': '1-5 Yrs',\n",
    "      'salary': 'Not disclosed',\n",
    "      'location': 'Delhi',\n",
    "      'discription': 'A short paragraph about yourself including why you want to intern for Mango People, why...',\n",
    "      'tags': \"'Multimedia', 'development', 'website', 'code', 'technical', 'HTML', 'CSS3', 'Graphic designing'\"},\n",
    "     {'title': 'website-developer',\n",
    "      'employer': 'ELK Education India Pvt Ltd',\n",
    "      'experience': '3-5 Yrs',\n",
    "      'salary': 'Not disclosed',\n",
    "      'location': 'Delhi',\n",
    "      'discription': 'Job Description Job responsibility includes working with the web design, development an...',\n",
    "      'tags': \"'UI development', 'jQuery', 'Wordpress', 'Design development', 'payment gateways', 'Content writing', 'HR', 'Web designing'\"}]\n"
   ]
  },
  {
   "cell_type": "code",
   "execution_count": 4,
   "id": "152a9048",
   "metadata": {},
   "outputs": [],
   "source": [
    "def check_concat(a,b,index_a):\n",
    "    clone=0\n",
    "    job_a = a[index_a]\n",
    "    for index_b in range(0,len(b)):\n",
    "        job_b = b[index_b]\n",
    "        comp_a = job_a.get('employer')\n",
    "        comp_a = ' '.join(comp_a.lower().split())\n",
    "        comp_b = job_b.get('employer')\n",
    "        comp_b = ' '.join(comp_b.lower().split())\n",
    "        if comp_a != comp_b:\n",
    "            break\n",
    "        disc_a = job_a.get('title')\n",
    "        disc_b = job_b.get('title')\n",
    "        disc_a = ' '.join(disc_a.lower().split())\n",
    "        disc_b = ' '.join(disc_b.lower().split())\n",
    "        doc1 = nlp(disc_a)\n",
    "        doc2 = nlp(disc_b)\n",
    "        similar = doc1.similarity(doc2)\n",
    "        print(doc1.similarity(doc2))\n",
    "        if similar > 0.9:\n",
    "            print('Clone Found: '+str(similar))\n",
    "            clone=1\n",
    "            break\n",
    "    if clone==0:\n",
    "        b=b.append(job_a)\n",
    "        \n",
    "        \n",
    "def filter_boi(a):\n",
    "    b=[]\n",
    "    for index_a in range(0,len(a)):\n",
    "        check_concat(a,b,index_a)\n",
    "    return b       "
   ]
  },
  {
   "cell_type": "code",
   "execution_count": 5,
   "id": "2f558537",
   "metadata": {
    "scrolled": true
   },
   "outputs": [
    {
     "name": "stdout",
     "output_type": "stream",
     "text": [
      "[{'title': 'Junior Website Developer', 'employer': 'GM Analytics Solutions', 'experience': '2-5 Yrs', 'salary': 'Not disclosed', 'location': 'Gurgaon/Gurugram(Cyber City)', 'discription': 'GM Analytics is looking for a Junior Web Designer and Developer to work with our Web an...', 'tags': \"'Wordpress Developer', 'web developer', 'php developer', 'webdesigner'\"}, {'title': 'Website Developer and Designer', 'employer': 'Mango People shop', 'experience': '2-7 Yrs', 'salary': 'Not disclosed', 'location': 'Noida, Bengaluru', 'discription': \"We're looking for web designers who can create a fun, crazy, out-of-the box look, layou...\", 'tags': \"'Object oriented design', 'Content management', 'jQuery', 'Web technologies', 'Wordpress', 'Javascript', 'Animation', 'E-commerce'\"}, {'title': 'Website Developer', 'employer': 'Mango People', 'experience': '1-5 Yrs', 'salary': 'Not disclosed', 'location': 'Delhi', 'discription': 'A short paragraph about yourself including why you want to intern for Mango People, why...', 'tags': \"'Multimedia', 'development', 'website', 'code', 'technical', 'HTML', 'CSS3', 'Graphic designing'\"}, {'title': 'website-developer', 'employer': 'ELK Education India Pvt Ltd', 'experience': '3-5 Yrs', 'salary': 'Not disclosed', 'location': 'Delhi', 'discription': 'Job Description Job responsibility includes working with the web design, development an...', 'tags': \"'UI development', 'jQuery', 'Wordpress', 'Design development', 'payment gateways', 'Content writing', 'HR', 'Web designing'\"}]\n"
     ]
    }
   ],
   "source": [
    "pure_data=filter_boi(a)\n",
    "print(pure_data)"
   ]
  },
  {
   "cell_type": "code",
   "execution_count": null,
   "id": "b4779768",
   "metadata": {},
   "outputs": [],
   "source": []
  }
 ],
 "metadata": {
  "interpreter": {
   "hash": "f9f85f796d01129d0dd105a088854619f454435301f6ffec2fea96ecbd9be4ac"
  },
  "kernelspec": {
   "display_name": "Python 3 (ipykernel)",
   "language": "python",
   "name": "python3"
  },
  "language_info": {
   "codemirror_mode": {
    "name": "ipython",
    "version": 3
   },
   "file_extension": ".py",
   "mimetype": "text/x-python",
   "name": "python",
   "nbconvert_exporter": "python",
   "pygments_lexer": "ipython3",
   "version": "3.8.8"
  }
 },
 "nbformat": 4,
 "nbformat_minor": 5
}
